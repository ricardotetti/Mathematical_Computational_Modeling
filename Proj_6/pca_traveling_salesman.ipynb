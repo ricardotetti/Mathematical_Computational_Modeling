{
 "cells": [
  {
   "cell_type": "code",
   "execution_count": 6,
   "metadata": {},
   "outputs": [],
   "source": [
    "%matplotlib inline\n",
    "import numpy as np\n",
    "from random import sample, shuffle\n",
    "import matplotlib.pyplot as plt\n",
    "from sklearn.metrics.pairwise import pairwise_distances\n",
    "import math\n",
    "import random"
   ]
  },
  {
   "cell_type": "code",
   "execution_count": 7,
   "metadata": {},
   "outputs": [],
   "source": [
    "def getPopulation(n_cities, n_individuals):\n",
    "    population = []\n",
    "    n = 0\n",
    "    while n < n_individuals:\n",
    "        individuals = np.random.permutation(n_cities)\n",
    "        if not any([np.array_equal(individuals, x) for x in population]):\n",
    "            population.append(individuals)\n",
    "            n += 1\n",
    "    return population"
   ]
  },
  {
   "cell_type": "code",
   "execution_count": 8,
   "metadata": {},
   "outputs": [],
   "source": [
    "def Innovation(individual):\n",
    "    innovated = np.array(individual)\n",
    "    innovated = np.random.shuffle(innovated)\n",
    "    return innovated"
   ]
  },
  {
   "cell_type": "code",
   "execution_count": 9,
   "metadata": {},
   "outputs": [],
   "source": [
    "def Mutation(individual):\n",
    "    mutated = np.array(individual)\n",
    "    indi1,indi2 = sample(range(len(individual)),2)\n",
    "    mutated[indi1] = individual[indi2]\n",
    "    mutated[indi2] = individual[indi1]\n",
    "    return mutated"
   ]
  },
  {
   "cell_type": "code",
   "execution_count": 10,
   "metadata": {},
   "outputs": [],
   "source": [
    "def Inversion(individual):\n",
    "    p = np.random.randint(n_cities)\n",
    "    k = np.random.randint(p,n_cities)\n",
    "    inverted = np.array(individual)\n",
    "    if p == k:\n",
    "        return None\n",
    "    else:\n",
    "        inverted[p:k] = reversed(inverted[p:k])\n",
    "        return inverted"
   ]
  },
  {
   "cell_type": "code",
   "execution_count": 11,
   "metadata": {},
   "outputs": [],
   "source": [
    "def Cloning(individual1, individual2):\n",
    "    n = len(individual1)\n",
    "    individual1, individual2 = sample(range(n),2)\n",
    "    result1 = np.array(individual1)\n",
    "    result2 = np.array(individual2)\n",
    "    result2 = result2.tolist()\n",
    "    result1 = result1.tolist()\n",
    "    result2 = []\n",
    "    for i in range((result1)):\n",
    "        result2.append(result1)\n",
    "    #result2 = result1.copy()\n",
    "    return result1, result2"
   ]
  },
  {
   "cell_type": "code",
   "execution_count": 12,
   "metadata": {},
   "outputs": [],
   "source": [
    "def Transposition(individual):\n",
    "    transpo = np.array(individual)\n",
    "    p = np.random.randint(n_cities)\n",
    "    k = np.random.randint(p,n_cities)\n",
    "    transpo[p:k] = shuffle(transpo[p:k])\n",
    "    return transpo"
   ]
  },
  {
   "cell_type": "code",
   "execution_count": 13,
   "metadata": {},
   "outputs": [],
   "source": [
    "def Crossing_over(individual1, individual2):\n",
    "    n = len(individual1)\n",
    "    cross_point1, cross_point2 = sample(range(n),2)\n",
    "    if cross_point1 > cross_point2:\n",
    "        tmp = cross_point2\n",
    "        cross_point1 = cross_point2\n",
    "        cross_point2 = tmp\n",
    "    result1 = np.array(individual1)\n",
    "    result2 = np.array(individual2)\n",
    "    j1 = cross_point1\n",
    "    j2 = cross_point2\n",
    "    for i in range(cross_point1,cross_point2):\n",
    "        while individual2[j1] not in individual1[cross_point1:cross_point2]:\n",
    "            j1 = (j1+1)%n\n",
    "        result1[i] = individual2[j1]\n",
    "        j1 = (j1+1)%n\n",
    "        while individual1[j2] not in individual2[cross_point1:cross_point2]:\n",
    "            j2 = (j2+1)%n\n",
    "        result2[i] = individual1[j2]\n",
    "        j2 = (j2+1)%n\n",
    "    return result1, result2"
   ]
  },
  {
   "cell_type": "code",
   "execution_count": 14,
   "metadata": {},
   "outputs": [],
   "source": [
    "def createOffspring(individual, p_innovation = 0, p_mutation=0, p_inversion = 0, \n",
    "                   p_cloning = 0, p_transposition = 0, p_crossing_over = 0):\n",
    "    offspring = []\n",
    "\n",
    "    for x in individual:\n",
    "        if np.random.rand() <= p_mutation:\n",
    "            c = Mutation(x)\n",
    "            if (not any([np.array_equal(c, x) for x in individual]) and \n",
    "                not any([np.array_equal(c, x) for x in offspring])):\n",
    "                offspring.append(c)\n",
    "        if np.random.rand() <= p_innovation:\n",
    "            k = Innovation(x)\n",
    "            if (not any([np.array_equal(k, x) for x in individual]) and \n",
    "                not any([np.array_equal(k, x) for x in offspring])):\n",
    "                offspring.append(k)\n",
    "        if np.random.rand() <= p_inversion:\n",
    "            t = Inversion(x)\n",
    "            if (not any([np.array_equal(t, x) for x in individual]) and \n",
    "                not any([np.array_equal(t, x) for x in offspring])):\n",
    "                offspring.append(t)\n",
    "        if np.random.rand() <= p_transposition:\n",
    "            w = Transposition(x)\n",
    "            if (not any([np.array_equal(w, x) for x in individual]) and \n",
    "                not any([np.array_equal(w, x) for x in offspring])):\n",
    "                offspring.append(w)\n",
    "    if np.random.rand() <= p_crossing_over:\n",
    "        for i in range(len(individual)):\n",
    "            p1, p2 = sample(individual, 2)\n",
    "            c1, c2 = Crossing_over(p1, p2)\n",
    "            if (not any([np.array_equal(c1, x) for x in individual]) and \n",
    "                not any([np.array_equal(c1, x) for x in offspring])):\n",
    "                offspring.append(c1)\n",
    "            if (not any([np.array_equal(c2, x) for x in individual]) and \n",
    "                not any([np.array_equal(c2, x) for x in offspring])):\n",
    "                offspring.append(c2)\n",
    "    \n",
    "    if np.random.rand() <= p_cloning:\n",
    "        for i in range(len(individual)):\n",
    "            p1, p2 = sample(individual, 2)\n",
    "            c1, c2 = Cloning(p1, p2)\n",
    "            if (not any([np.array_equal(c1, x) for x in individual]) and \n",
    "                not any([np.array_equal(c1, x) for x in offspring])):\n",
    "                offspring.append(c1)\n",
    "            if (not any([np.array_equal(c2, x) for x in individual]) and \n",
    "                not any([np.array_equal(c2, x) for x in offspring])):\n",
    "                offspring.append(c2)\n",
    "\n",
    "    return offspring"
   ]
  },
  {
   "cell_type": "code",
   "execution_count": 15,
   "metadata": {},
   "outputs": [],
   "source": [
    "def fitness(individual):   \n",
    "    fitness = 0\n",
    "    global distances\n",
    "    \n",
    "    for i in range(len(individual) - 1):\n",
    "        fitness += distances[individual[i]][individual[i+1]]\n",
    "    return fitness"
   ]
  },
  {
   "cell_type": "code",
   "execution_count": 16,
   "metadata": {},
   "outputs": [],
   "source": [
    "def probabilisticSelection(population, selection_factor, p=[1, 0]):\n",
    "    total_fitness = sum([fitness(x) for x in population])\n",
    "    \n",
    "    population = [[x, (p[0]*(total_fitness - fitness(x))+p[1])/(p[0]*(total_fitness*(len(population)-1))+p[1])] for x in population]\n",
    "    population.sort(key=lambda x: x[1])\n",
    "    population = [[x[0], y] for x, y in zip(population, np.cumsum([x[1] for x in population]))]\n",
    "\n",
    "    new_population = []\n",
    "\n",
    "    r = np.random.rand()\n",
    "    for i in range(selection_factor):\n",
    "        selected_individual = [x for x in population if x[1] >= (r + i/selection_factor)%1][0]\n",
    "        new_population.append(selected_individual[0])\n",
    "\n",
    "    return new_population"
   ]
  },
  {
   "cell_type": "code",
   "execution_count": 17,
   "metadata": {},
   "outputs": [],
   "source": [
    "def elitismReplacement(individual, offspring, n_elite):\n",
    "    individual.sort(key=lambda x: fitness(x))\n",
    "    new_population = individual[:n_elite]\n",
    "    offspring.sort(key=lambda x: fitness(x))\n",
    "    new_population.extend(offspring[:(len(individual) - n_elite)])\n",
    "    return new_population"
   ]
  },
  {
   "cell_type": "code",
   "execution_count": 18,
   "metadata": {},
   "outputs": [],
   "source": [
    "def update(i, p_innovation, p_mutation, p_inversion, p_cloning, p_transposition, p_crossing_over):\n",
    "    global population\n",
    "    #population = getPopulation(n_cities, n_individuals)\n",
    "    parents = probabilisticSelection(population, 150)\n",
    "    offspring = createOffspring(parents, p_innovation, p_mutation, p_inversion, \n",
    "                   p_cloning, p_transposition, p_crossing_over)\n",
    "    population = elitismReplacement(population, offspring, 100)\n",
    "    \n",
    "    best = min(population, key=lambda x: fitness(x))\n",
    "    plotdata = [cities[x] for x in best]\n",
    "    \n",
    "    return plotdata"
   ]
  },
  {
   "cell_type": "code",
   "execution_count": 19,
   "metadata": {},
   "outputs": [],
   "source": [
    "def distance_function(lists):\n",
    "    p = []\n",
    "    x,y = zip(*lists)\n",
    "    for i in range(len(x)):\n",
    "        l =  math.sqrt((x[i]-x[i-1])**2+(y[i]-y[i-1])**2)\n",
    "        p.append(l)\n",
    "    return p"
   ]
  },
  {
   "cell_type": "code",
   "execution_count": 20,
   "metadata": {},
   "outputs": [],
   "source": [
    "n_cities = 15\n",
    "n_individuals = 300\n",
    "\n",
    "cities = ([(np.random.randn(),np.random.randn()) for x in range(0,n_cities)])\n",
    "distances = pairwise_distances(cities, metric='euclidean')"
   ]
  },
  {
   "cell_type": "markdown",
   "metadata": {},
   "source": [
    "### Primeiro parâmetro"
   ]
  },
  {
   "cell_type": "code",
   "execution_count": 21,
   "metadata": {},
   "outputs": [],
   "source": [
    "population = getPopulation(n_cities, n_individuals)\n",
    "k1 = []\n",
    "for i in range(200):\n",
    "    k1.append(update(i, 0, 0.2, 0, 0, 0, 0.2))"
   ]
  },
  {
   "cell_type": "code",
   "execution_count": 22,
   "metadata": {},
   "outputs": [],
   "source": [
    "population = getPopulation(n_cities, n_individuals)\n",
    "k2 = []\n",
    "for i in range(200):\n",
    "    k2.append(update(i, 0, 0.2, 0, 0, 0, 0.2))"
   ]
  },
  {
   "cell_type": "code",
   "execution_count": 23,
   "metadata": {},
   "outputs": [],
   "source": [
    "population = getPopulation(n_cities, n_individuals)\n",
    "k3 = []\n",
    "for i in range(200):\n",
    "    k3.append(update(i, 0, 0.2, 0, 0, 0, 0.2))"
   ]
  },
  {
   "cell_type": "code",
   "execution_count": 24,
   "metadata": {},
   "outputs": [],
   "source": [
    "population = getPopulation(n_cities, n_individuals)\n",
    "k4 = []\n",
    "for i in range(200):\n",
    "    k4.append(update(i, 0, 0.2, 0, 0, 0, 0.2))"
   ]
  },
  {
   "cell_type": "code",
   "execution_count": 25,
   "metadata": {},
   "outputs": [],
   "source": [
    "population = getPopulation(n_cities, n_individuals)\n",
    "k5 = []\n",
    "for i in range(200):\n",
    "    k5.append(update(i, 0, 0.2, 0, 0, 0, 0.2))"
   ]
  },
  {
   "cell_type": "code",
   "execution_count": 26,
   "metadata": {},
   "outputs": [],
   "source": [
    "population = getPopulation(n_cities, n_individuals)\n",
    "k6 = []\n",
    "for i in range(200):\n",
    "    k6.append(update(i, 0, 0.2, 0, 0, 0, 0.2))"
   ]
  },
  {
   "cell_type": "code",
   "execution_count": 27,
   "metadata": {},
   "outputs": [],
   "source": [
    "population = getPopulation(n_cities, n_individuals)\n",
    "k7 = []\n",
    "for i in range(200):\n",
    "    k7.append(update(i, 0, 0.2, 0, 0, 0, 0.2))"
   ]
  },
  {
   "cell_type": "code",
   "execution_count": 28,
   "metadata": {},
   "outputs": [],
   "source": [
    "population = getPopulation(n_cities, n_individuals)\n",
    "k8 = []\n",
    "for i in range(200):\n",
    "    k8.append(update(i, 0, 0.2, 0, 0, 0, 0.2))"
   ]
  },
  {
   "cell_type": "code",
   "execution_count": 29,
   "metadata": {},
   "outputs": [],
   "source": [
    "population = getPopulation(n_cities, n_individuals)\n",
    "k9 = []\n",
    "for i in range(200):\n",
    "    k9.append(update(i, 0, 0.2, 0, 0, 0, 0.2))"
   ]
  },
  {
   "cell_type": "code",
   "execution_count": 30,
   "metadata": {},
   "outputs": [],
   "source": [
    "population = getPopulation(n_cities, n_individuals)\n",
    "k10 = []\n",
    "for i in range(200):\n",
    "    k10.append(update(i, 0, 0.2, 0, 0, 0, 0.2))"
   ]
  },
  {
   "cell_type": "code",
   "execution_count": 31,
   "metadata": {},
   "outputs": [],
   "source": [
    "population = getPopulation(n_cities, n_individuals)\n",
    "k11 = []\n",
    "for i in range(200):\n",
    "    k11.append(update(i, 0, 0.2, 0, 0, 0, 0.2))"
   ]
  },
  {
   "cell_type": "code",
   "execution_count": 32,
   "metadata": {},
   "outputs": [],
   "source": [
    "population = getPopulation(n_cities, n_individuals)\n",
    "k12 = []\n",
    "for i in range(200):\n",
    "    k12.append(update(i, 0, 0.2, 0, 0, 0, 0.2))"
   ]
  },
  {
   "cell_type": "code",
   "execution_count": 33,
   "metadata": {},
   "outputs": [],
   "source": [
    "population = getPopulation(n_cities, n_individuals)\n",
    "k13 = []\n",
    "for i in range(200):\n",
    "    k13.append(update(i, 0, 0.2, 0, 0, 0, 0.2))"
   ]
  },
  {
   "cell_type": "code",
   "execution_count": 34,
   "metadata": {},
   "outputs": [],
   "source": [
    "population = getPopulation(n_cities, n_individuals)\n",
    "k14 = []\n",
    "for i in range(200):\n",
    "    k14.append(update(i, 0, 0.2, 0, 0, 0, 0.2))"
   ]
  },
  {
   "cell_type": "code",
   "execution_count": 35,
   "metadata": {},
   "outputs": [],
   "source": [
    "population = getPopulation(n_cities, n_individuals)\n",
    "k15 = []\n",
    "for i in range(200):\n",
    "    k15.append(update(i, 0, 0.2, 0, 0, 0, 0.2))"
   ]
  },
  {
   "cell_type": "code",
   "execution_count": 36,
   "metadata": {},
   "outputs": [],
   "source": [
    "population = getPopulation(n_cities, n_individuals)\n",
    "k16 = []\n",
    "for i in range(200):\n",
    "    k16.append(update(i, 0, 0.2, 0, 0, 0, 0.2))"
   ]
  },
  {
   "cell_type": "code",
   "execution_count": 37,
   "metadata": {},
   "outputs": [],
   "source": [
    "population = getPopulation(n_cities, n_individuals)\n",
    "k17 = []\n",
    "for i in range(200):\n",
    "    k17.append(update(i, 0, 0.2, 0, 0, 0, 0.2))"
   ]
  },
  {
   "cell_type": "code",
   "execution_count": 38,
   "metadata": {},
   "outputs": [],
   "source": [
    "population = getPopulation(n_cities, n_individuals)\n",
    "k18 = []\n",
    "for i in range(200):\n",
    "    k18.append(update(i, 0, 0.2, 0, 0, 0, 0.2))"
   ]
  },
  {
   "cell_type": "code",
   "execution_count": 39,
   "metadata": {},
   "outputs": [],
   "source": [
    "population = getPopulation(n_cities, n_individuals)\n",
    "k19 = []\n",
    "for i in range(200):\n",
    "    k19.append(update(i, 0, 0.2, 0, 0, 0, 0.2))"
   ]
  },
  {
   "cell_type": "code",
   "execution_count": 40,
   "metadata": {},
   "outputs": [],
   "source": [
    "population = getPopulation(n_cities, n_individuals)\n",
    "k20 = []\n",
    "for i in range(200):\n",
    "    k20.append(update(i, 0, 0.2, 0, 0, 0, 0.2))"
   ]
  },
  {
   "cell_type": "markdown",
   "metadata": {},
   "source": [
    "### Segundo Parametro"
   ]
  },
  {
   "cell_type": "code",
   "execution_count": 47,
   "metadata": {},
   "outputs": [],
   "source": [
    "population = getPopulation(n_cities, n_individuals)\n",
    "k21 = []\n",
    "for i in range(200):\n",
    "    k21.append(update(i, 0, 0.1, 0, 0, 0, 0.4))"
   ]
  },
  {
   "cell_type": "code",
   "execution_count": 48,
   "metadata": {},
   "outputs": [],
   "source": [
    "population = getPopulation(n_cities, n_individuals)\n",
    "k22 = []\n",
    "for i in range(200):\n",
    "    k22.append(update(i, 0, 0.1, 0, 0, 0, 0.4))"
   ]
  },
  {
   "cell_type": "code",
   "execution_count": 49,
   "metadata": {},
   "outputs": [],
   "source": [
    "population = getPopulation(n_cities, n_individuals)\n",
    "k23 = []\n",
    "for i in range(200):\n",
    "    k23.append(update(i, 0, 0.1, 0, 0, 0, 0.4))"
   ]
  },
  {
   "cell_type": "code",
   "execution_count": 50,
   "metadata": {},
   "outputs": [],
   "source": [
    "population = getPopulation(n_cities, n_individuals)\n",
    "k24 = []\n",
    "for i in range(200):\n",
    "    k24.append(update(i, 0, 0.1, 0, 0, 0, 0.4))"
   ]
  },
  {
   "cell_type": "code",
   "execution_count": 51,
   "metadata": {},
   "outputs": [],
   "source": [
    "population = getPopulation(n_cities, n_individuals)\n",
    "k25 = []\n",
    "for i in range(200):\n",
    "    k25.append(update(i, 0, 0.1, 0, 0, 0, 0.4))"
   ]
  },
  {
   "cell_type": "code",
   "execution_count": 52,
   "metadata": {},
   "outputs": [],
   "source": [
    "population = getPopulation(n_cities, n_individuals)\n",
    "k26 = []\n",
    "for i in range(200):\n",
    "    k26.append(update(i, 0, 0.1, 0, 0, 0, 0.4))"
   ]
  },
  {
   "cell_type": "code",
   "execution_count": 53,
   "metadata": {},
   "outputs": [],
   "source": [
    "population = getPopulation(n_cities, n_individuals)\n",
    "k27 = []\n",
    "for i in range(200):\n",
    "    k27.append(update(i, 0, 0.1, 0, 0, 0, 0.4))"
   ]
  },
  {
   "cell_type": "code",
   "execution_count": 54,
   "metadata": {},
   "outputs": [],
   "source": [
    "population = getPopulation(n_cities, n_individuals)\n",
    "k28 = []\n",
    "for i in range(200):\n",
    "    k28.append(update(i, 0, 0.1, 0, 0, 0, 0.4))"
   ]
  },
  {
   "cell_type": "code",
   "execution_count": 55,
   "metadata": {},
   "outputs": [],
   "source": [
    "population = getPopulation(n_cities, n_individuals)\n",
    "k29 = []\n",
    "for i in range(200):\n",
    "    k29.append(update(i, 0, 0.1, 0, 0, 0, 0.4))"
   ]
  },
  {
   "cell_type": "code",
   "execution_count": 56,
   "metadata": {},
   "outputs": [],
   "source": [
    "population = getPopulation(n_cities, n_individuals)\n",
    "k30 = []\n",
    "for i in range(200):\n",
    "    k30.append(update(i, 0, 0.1, 0, 0, 0, 0.4))"
   ]
  },
  {
   "cell_type": "code",
   "execution_count": 57,
   "metadata": {},
   "outputs": [],
   "source": [
    "population = getPopulation(n_cities, n_individuals)\n",
    "k31 = []\n",
    "for i in range(200):\n",
    "    k31.append(update(i, 0, 0.1, 0, 0, 0, 0.4))"
   ]
  },
  {
   "cell_type": "code",
   "execution_count": 58,
   "metadata": {},
   "outputs": [],
   "source": [
    "population = getPopulation(n_cities, n_individuals)\n",
    "k32 = []\n",
    "for i in range(200):\n",
    "    k32.append(update(i, 0, 0.1, 0, 0, 0, 0.4))"
   ]
  },
  {
   "cell_type": "code",
   "execution_count": 59,
   "metadata": {},
   "outputs": [],
   "source": [
    "population = getPopulation(n_cities, n_individuals)\n",
    "k33 = []\n",
    "for i in range(200):\n",
    "    k33.append(update(i, 0, 0.1, 0, 0, 0, 0.4))"
   ]
  },
  {
   "cell_type": "code",
   "execution_count": 60,
   "metadata": {},
   "outputs": [],
   "source": [
    "population = getPopulation(n_cities, n_individuals)\n",
    "k34 = []\n",
    "for i in range(200):\n",
    "    k34.append(update(i, 0, 0.1, 0, 0, 0, 0.4))"
   ]
  },
  {
   "cell_type": "code",
   "execution_count": 61,
   "metadata": {},
   "outputs": [],
   "source": [
    "population = getPopulation(n_cities, n_individuals)\n",
    "k35 = []\n",
    "for i in range(200):\n",
    "    k35.append(update(i, 0, 0.1, 0, 0, 0, 0.4))"
   ]
  },
  {
   "cell_type": "code",
   "execution_count": 62,
   "metadata": {},
   "outputs": [],
   "source": [
    "population = getPopulation(n_cities, n_individuals)\n",
    "k36 = []\n",
    "for i in range(200):\n",
    "    k36.append(update(i, 0, 0.1, 0, 0, 0, 0.4))"
   ]
  },
  {
   "cell_type": "code",
   "execution_count": 63,
   "metadata": {},
   "outputs": [],
   "source": [
    "population = getPopulation(n_cities, n_individuals)\n",
    "k37 = []\n",
    "for i in range(200):\n",
    "    k37.append(update(i, 0, 0.1, 0, 0, 0, 0.4))"
   ]
  },
  {
   "cell_type": "code",
   "execution_count": 64,
   "metadata": {},
   "outputs": [],
   "source": [
    "population = getPopulation(n_cities, n_individuals)\n",
    "k38 = []\n",
    "for i in range(200):\n",
    "    k38.append(update(i, 0, 0.1, 0, 0, 0, 0.4))"
   ]
  },
  {
   "cell_type": "code",
   "execution_count": 65,
   "metadata": {},
   "outputs": [],
   "source": [
    "population = getPopulation(n_cities, n_individuals)\n",
    "k39 = []\n",
    "for i in range(200):\n",
    "    k39.append(update(i, 0, 0.1, 0, 0, 0, 0.4))"
   ]
  },
  {
   "cell_type": "code",
   "execution_count": 66,
   "metadata": {},
   "outputs": [],
   "source": [
    "population = getPopulation(n_cities, n_individuals)\n",
    "k40 = []\n",
    "for i in range(200):\n",
    "    k40.append(update(i, 0, 0.1, 0, 0, 0, 0.4))"
   ]
  },
  {
   "cell_type": "markdown",
   "metadata": {},
   "source": [
    "### Terceiro parâmetro"
   ]
  },
  {
   "cell_type": "code",
   "execution_count": 67,
   "metadata": {},
   "outputs": [],
   "source": [
    "population = getPopulation(n_cities, n_individuals)\n",
    "k41 = []\n",
    "for i in range(200):\n",
    "    k41.append(update(i, 0, 0.5, 0, 0, 0, 0.3))"
   ]
  },
  {
   "cell_type": "code",
   "execution_count": 68,
   "metadata": {},
   "outputs": [],
   "source": [
    "population = getPopulation(n_cities, n_individuals)\n",
    "k42 = []\n",
    "for i in range(200):\n",
    "    k42.append(update(i, 0, 0.5, 0, 0, 0, 0.3))"
   ]
  },
  {
   "cell_type": "code",
   "execution_count": 69,
   "metadata": {},
   "outputs": [],
   "source": [
    "population = getPopulation(n_cities, n_individuals)\n",
    "k43 = []\n",
    "for i in range(200):\n",
    "    k43.append(update(i, 0, 0.5, 0, 0, 0, 0.3))"
   ]
  },
  {
   "cell_type": "code",
   "execution_count": 70,
   "metadata": {},
   "outputs": [],
   "source": [
    "population = getPopulation(n_cities, n_individuals)\n",
    "k44 = []\n",
    "for i in range(200):\n",
    "    k44.append(update(i, 0, 0.5, 0, 0, 0, 0.3))"
   ]
  },
  {
   "cell_type": "code",
   "execution_count": 71,
   "metadata": {},
   "outputs": [],
   "source": [
    "population = getPopulation(n_cities, n_individuals)\n",
    "k45 = []\n",
    "for i in range(200):\n",
    "    k45.append(update(i, 0, 0.5, 0, 0, 0, 0.3))"
   ]
  },
  {
   "cell_type": "code",
   "execution_count": 72,
   "metadata": {},
   "outputs": [],
   "source": [
    "population = getPopulation(n_cities, n_individuals)\n",
    "k46 = []\n",
    "for i in range(200):\n",
    "    k46.append(update(i, 0, 0.5, 0, 0, 0, 0.3))"
   ]
  },
  {
   "cell_type": "code",
   "execution_count": 73,
   "metadata": {},
   "outputs": [],
   "source": [
    "population = getPopulation(n_cities, n_individuals)\n",
    "k47 = []\n",
    "for i in range(200):\n",
    "    k47.append(update(i, 0, 0.5, 0, 0, 0, 0.3))"
   ]
  },
  {
   "cell_type": "code",
   "execution_count": 74,
   "metadata": {},
   "outputs": [],
   "source": [
    "population = getPopulation(n_cities, n_individuals)\n",
    "k48 = []\n",
    "for i in range(200):\n",
    "    k48.append(update(i, 0, 0.5, 0, 0, 0, 0.3))"
   ]
  },
  {
   "cell_type": "code",
   "execution_count": 75,
   "metadata": {},
   "outputs": [],
   "source": [
    "population = getPopulation(n_cities, n_individuals)\n",
    "k49 = []\n",
    "for i in range(200):\n",
    "    k49.append(update(i, 0, 0.5, 0, 0, 0, 0.3))"
   ]
  },
  {
   "cell_type": "code",
   "execution_count": 76,
   "metadata": {},
   "outputs": [],
   "source": [
    "population = getPopulation(n_cities, n_individuals)\n",
    "k50 = []\n",
    "for i in range(200):\n",
    "    k50.append(update(i, 0, 0.5, 0, 0, 0, 0.3))"
   ]
  },
  {
   "cell_type": "code",
   "execution_count": 77,
   "metadata": {},
   "outputs": [],
   "source": [
    "population = getPopulation(n_cities, n_individuals)\n",
    "k51 = []\n",
    "for i in range(200):\n",
    "    k51.append(update(i, 0, 0.5, 0, 0, 0, 0.3))"
   ]
  },
  {
   "cell_type": "code",
   "execution_count": 78,
   "metadata": {},
   "outputs": [],
   "source": [
    "population = getPopulation(n_cities, n_individuals)\n",
    "k52 = []\n",
    "for i in range(200):\n",
    "    k52.append(update(i, 0, 0.5, 0, 0, 0, 0.3))"
   ]
  },
  {
   "cell_type": "code",
   "execution_count": 79,
   "metadata": {},
   "outputs": [],
   "source": [
    "population = getPopulation(n_cities, n_individuals)\n",
    "k53 = []\n",
    "for i in range(200):\n",
    "    k53.append(update(i, 0, 0.5, 0, 0, 0, 0.3))"
   ]
  },
  {
   "cell_type": "code",
   "execution_count": 80,
   "metadata": {},
   "outputs": [],
   "source": [
    "population = getPopulation(n_cities, n_individuals)\n",
    "k54 = []\n",
    "for i in range(200):\n",
    "    k54.append(update(i, 0, 0.5, 0, 0, 0, 0.3))"
   ]
  },
  {
   "cell_type": "code",
   "execution_count": 81,
   "metadata": {},
   "outputs": [],
   "source": [
    "population = getPopulation(n_cities, n_individuals)\n",
    "k55 = []\n",
    "for i in range(200):\n",
    "    k55.append(update(i, 0, 0.5, 0, 0, 0, 0.3))"
   ]
  },
  {
   "cell_type": "code",
   "execution_count": 82,
   "metadata": {},
   "outputs": [],
   "source": [
    "population = getPopulation(n_cities, n_individuals)\n",
    "k56 = []\n",
    "for i in range(200):\n",
    "    k56.append(update(i, 0, 0.5, 0, 0, 0, 0.3))"
   ]
  },
  {
   "cell_type": "code",
   "execution_count": 83,
   "metadata": {},
   "outputs": [],
   "source": [
    "population = getPopulation(n_cities, n_individuals)\n",
    "k57 = []\n",
    "for i in range(200):\n",
    "    k57.append(update(i, 0, 0.5, 0, 0, 0, 0.3))"
   ]
  },
  {
   "cell_type": "code",
   "execution_count": 84,
   "metadata": {},
   "outputs": [],
   "source": [
    "population = getPopulation(n_cities, n_individuals)\n",
    "k58 = []\n",
    "for i in range(200):\n",
    "    k58.append(update(i, 0, 0.5, 0, 0, 0, 0.3))"
   ]
  },
  {
   "cell_type": "code",
   "execution_count": 85,
   "metadata": {},
   "outputs": [],
   "source": [
    "population = getPopulation(n_cities, n_individuals)\n",
    "k59 = []\n",
    "for i in range(200):\n",
    "    k59.append(update(i, 0, 0.5, 0, 0, 0, 0.3))"
   ]
  },
  {
   "cell_type": "code",
   "execution_count": 177,
   "metadata": {},
   "outputs": [],
   "source": [
    "population = getPopulation(n_cities, n_individuals)\n",
    "k60 = []\n",
    "for i in range(200):\n",
    "    k60.append(update(i, 0, 0.5, 0, 0, 0, 0.3))"
   ]
  },
  {
   "cell_type": "markdown",
   "metadata": {},
   "source": [
    "### Construindo vetores aletorios com a distância pra cada solução completa"
   ]
  },
  {
   "cell_type": "code",
   "execution_count": 41,
   "metadata": {},
   "outputs": [],
   "source": [
    "v_aleatorio_1 = [distance_function(k1[i]) for i in range(len(k1))]\n",
    "v_aleatorio_2 = [distance_function(k2[i]) for i in range(len(k1))]\n",
    "v_aleatorio_3 = [distance_function(k3[i]) for i in range(len(k1))]\n",
    "v_aleatorio_4 = [distance_function(k4[i]) for i in range(len(k1))]\n",
    "v_aleatorio_5 = [distance_function(k5[i]) for i in range(len(k1))]\n",
    "v_aleatorio_6 = [distance_function(k6[i]) for i in range(len(k1))]\n",
    "v_aleatorio_7 = [distance_function(k7[i]) for i in range(len(k1))]\n",
    "v_aleatorio_8 = [distance_function(k8[i]) for i in range(len(k1))]\n",
    "v_aleatorio_9 = [distance_function(k9[i]) for i in range(len(k1))]\n",
    "v_aleatorio_10 = [distance_function(k10[i]) for i in range(len(k1))]\n",
    "v_aleatorio_11 = [distance_function(k11[i]) for i in range(len(k1))]\n",
    "v_aleatorio_12 = [distance_function(k12[i]) for i in range(len(k1))]\n",
    "v_aleatorio_13 = [distance_function(k13[i]) for i in range(len(k1))]\n",
    "v_aleatorio_14 = [distance_function(k14[i]) for i in range(len(k1))]\n",
    "v_aleatorio_15 = [distance_function(k15[i]) for i in range(len(k1))]\n",
    "v_aleatorio_16 = [distance_function(k16[i]) for i in range(len(k1))]\n",
    "v_aleatorio_17 = [distance_function(k17[i]) for i in range(len(k1))]\n",
    "v_aleatorio_18 = [distance_function(k18[i]) for i in range(len(k1))]\n",
    "v_aleatorio_19 = [distance_function(k19[i]) for i in range(len(k1))]\n",
    "v_aleatorio_20 = [distance_function(k20[i]) for i in range(len(k1))]"
   ]
  },
  {
   "cell_type": "code",
   "execution_count": 225,
   "metadata": {},
   "outputs": [],
   "source": [
    "v_aleatorio_21 = [distance_function(k21[i]) for i in range(len(k1))]\n",
    "v_aleatorio_22 = [distance_function(k22[i]) for i in range(len(k1))]\n",
    "v_aleatorio_23 = [distance_function(k23[i]) for i in range(len(k1))]\n",
    "v_aleatorio_24 = [distance_function(k24[i]) for i in range(len(k1))]\n",
    "v_aleatorio_25 = [distance_function(k25[i]) for i in range(len(k1))]\n",
    "v_aleatorio_26 = [distance_function(k26[i]) for i in range(len(k1))]\n",
    "v_aleatorio_27 = [distance_function(k27[i]) for i in range(len(k1))]\n",
    "v_aleatorio_28 = [distance_function(k28[i]) for i in range(len(k1))]\n",
    "v_aleatorio_29 = [distance_function(k29[i]) for i in range(len(k1))]\n",
    "v_aleatorio_30 = [distance_function(k30[i]) for i in range(len(k1))]\n",
    "v_aleatorio_31 = [distance_function(k31[i]) for i in range(len(k1))]\n",
    "v_aleatorio_32 = [distance_function(k32[i]) for i in range(len(k1))]\n",
    "v_aleatorio_33 = [distance_function(k33[i]) for i in range(len(k1))]\n",
    "v_aleatorio_34 = [distance_function(k34[i]) for i in range(len(k1))]\n",
    "v_aleatorio_35 = [distance_function(k35[i]) for i in range(len(k1))]\n",
    "v_aleatorio_36 = [distance_function(k36[i]) for i in range(len(k1))]\n",
    "v_aleatorio_37 = [distance_function(k37[i]) for i in range(len(k1))]\n",
    "v_aleatorio_38 = [distance_function(k38[i]) for i in range(len(k1))]\n",
    "v_aleatorio_39 = [distance_function(k39[i]) for i in range(len(k1))]\n",
    "v_aleatorio_40 = [distance_function(k40[i]) for i in range(len(k1))]"
   ]
  },
  {
   "cell_type": "code",
   "execution_count": 226,
   "metadata": {},
   "outputs": [],
   "source": [
    "v_aleatorio_41 = [distance_function(k41[i]) for i in range(len(k1))]\n",
    "v_aleatorio_42 = [distance_function(k42[i]) for i in range(len(k1))]\n",
    "v_aleatorio_43 = [distance_function(k43[i]) for i in range(len(k1))]\n",
    "v_aleatorio_44 = [distance_function(k44[i]) for i in range(len(k1))]\n",
    "v_aleatorio_45 = [distance_function(k45[i]) for i in range(len(k1))]\n",
    "v_aleatorio_46 = [distance_function(k46[i]) for i in range(len(k1))]\n",
    "v_aleatorio_47 = [distance_function(k47[i]) for i in range(len(k1))]\n",
    "v_aleatorio_48 = [distance_function(k48[i]) for i in range(len(k1))]\n",
    "v_aleatorio_49 = [distance_function(k49[i]) for i in range(len(k1))]\n",
    "v_aleatorio_50 = [distance_function(k50[i]) for i in range(len(k1))]\n",
    "v_aleatorio_51 = [distance_function(k51[i]) for i in range(len(k1))]\n",
    "v_aleatorio_52 = [distance_function(k52[i]) for i in range(len(k1))]\n",
    "v_aleatorio_53 = [distance_function(k53[i]) for i in range(len(k1))]\n",
    "v_aleatorio_54 = [distance_function(k54[i]) for i in range(len(k1))]\n",
    "v_aleatorio_55 = [distance_function(k55[i]) for i in range(len(k1))]\n",
    "v_aleatorio_56 = [distance_function(k56[i]) for i in range(len(k1))]\n",
    "v_aleatorio_57 = [distance_function(k57[i]) for i in range(len(k1))]\n",
    "v_aleatorio_58 = [distance_function(k58[i]) for i in range(len(k1))]\n",
    "v_aleatorio_59 = [distance_function(k59[i]) for i in range(len(k1))]\n",
    "v_aleatorio_60 = [distance_function(k60[i]) for i in range(len(k1))]"
   ]
  },
  {
   "cell_type": "code",
   "execution_count": 42,
   "metadata": {},
   "outputs": [],
   "source": [
    "vetor_distancia1 = []\n",
    "vetor_distancia1.append(v_aleatorio_1)\n",
    "vetor_distancia1.append(v_aleatorio_2)\n",
    "vetor_distancia1.append(v_aleatorio_3)\n",
    "vetor_distancia1.append(v_aleatorio_4)\n",
    "vetor_distancia1.append(v_aleatorio_5)\n",
    "vetor_distancia1.append(v_aleatorio_6)\n",
    "vetor_distancia1.append(v_aleatorio_7)\n",
    "vetor_distancia1.append(v_aleatorio_8)\n",
    "vetor_distancia1.append(v_aleatorio_9)\n",
    "vetor_distancia1.append(v_aleatorio_10)\n",
    "vetor_distancia1.append(v_aleatorio_11)\n",
    "vetor_distancia1.append(v_aleatorio_12)\n",
    "vetor_distancia1.append(v_aleatorio_13)\n",
    "vetor_distancia1.append(v_aleatorio_14)\n",
    "vetor_distancia1.append(v_aleatorio_15)\n",
    "vetor_distancia1.append(v_aleatorio_16)\n",
    "vetor_distancia1.append(v_aleatorio_17)\n",
    "vetor_distancia1.append(v_aleatorio_18)\n",
    "vetor_distancia1.append(v_aleatorio_19)\n",
    "vetor_distancia1.append(v_aleatorio_20)"
   ]
  },
  {
   "cell_type": "code",
   "execution_count": 228,
   "metadata": {},
   "outputs": [],
   "source": [
    "vetor_distancia2 = []\n",
    "vetor_distancia2.append(v_aleatorio_21)\n",
    "vetor_distancia2.append(v_aleatorio_22)\n",
    "vetor_distancia2.append(v_aleatorio_23)\n",
    "vetor_distancia2.append(v_aleatorio_24)\n",
    "vetor_distancia2.append(v_aleatorio_25)\n",
    "vetor_distancia2.append(v_aleatorio_26)\n",
    "vetor_distancia2.append(v_aleatorio_27)\n",
    "vetor_distancia2.append(v_aleatorio_28)\n",
    "vetor_distancia2.append(v_aleatorio_29)\n",
    "vetor_distancia2.append(v_aleatorio_30)\n",
    "vetor_distancia2.append(v_aleatorio_31)\n",
    "vetor_distancia2.append(v_aleatorio_32)\n",
    "vetor_distancia2.append(v_aleatorio_33)\n",
    "vetor_distancia2.append(v_aleatorio_34)\n",
    "vetor_distancia2.append(v_aleatorio_35)\n",
    "vetor_distancia2.append(v_aleatorio_36)\n",
    "vetor_distancia2.append(v_aleatorio_37)\n",
    "vetor_distancia2.append(v_aleatorio_38)\n",
    "vetor_distancia2.append(v_aleatorio_39)\n",
    "vetor_distancia2.append(v_aleatorio_40)"
   ]
  },
  {
   "cell_type": "code",
   "execution_count": 229,
   "metadata": {},
   "outputs": [],
   "source": [
    "vetor_distancia3 = []\n",
    "vetor_distancia3.append(v_aleatorio_41)\n",
    "vetor_distancia3.append(v_aleatorio_42)\n",
    "vetor_distancia3.append(v_aleatorio_43)\n",
    "vetor_distancia3.append(v_aleatorio_44)\n",
    "vetor_distancia3.append(v_aleatorio_45)\n",
    "vetor_distancia3.append(v_aleatorio_46)\n",
    "vetor_distancia3.append(v_aleatorio_47)\n",
    "vetor_distancia3.append(v_aleatorio_48)\n",
    "vetor_distancia3.append(v_aleatorio_49)\n",
    "vetor_distancia3.append(v_aleatorio_50)\n",
    "vetor_distancia3.append(v_aleatorio_51)\n",
    "vetor_distancia3.append(v_aleatorio_52)\n",
    "vetor_distancia3.append(v_aleatorio_53)\n",
    "vetor_distancia3.append(v_aleatorio_54)\n",
    "vetor_distancia3.append(v_aleatorio_55)\n",
    "vetor_distancia3.append(v_aleatorio_56)\n",
    "vetor_distancia3.append(v_aleatorio_57)\n",
    "vetor_distancia3.append(v_aleatorio_58)\n",
    "vetor_distancia3.append(v_aleatorio_59)\n",
    "vetor_distancia3.append(v_aleatorio_60)"
   ]
  },
  {
   "cell_type": "markdown",
   "metadata": {},
   "source": [
    "### Pca sem biblioteca"
   ]
  },
  {
   "cell_type": "code",
   "execution_count": 103,
   "metadata": {},
   "outputs": [],
   "source": [
    "from sklearn.preprocessing import StandardScaler\n",
    "from numpy import linalg as LA"
   ]
  },
  {
   "cell_type": "raw",
   "metadata": {},
   "source": [
    "def pca_autovalores(matrix):\n",
    "    K = np.cov(matrix)\n",
    "    eigenvalue, eigenvector = LA.eig(K)\n",
    "    eigenvalue.sort()\n",
    "    eigenvector.sort()\n",
    "    #eigenvector = eigenvector[::-1]\n",
    "    eigenvalue = eigenvalue[::-1]\n",
    "    projected1 = np.dot(matrix,eigenvector)\n",
    "    projected2 = np.dot(matrix,eigenvector)\n",
    "    return projected1, projected2"
   ]
  },
  {
   "cell_type": "code",
   "execution_count": 110,
   "metadata": {},
   "outputs": [],
   "source": [
    "def pca_autovalores(matrix):\n",
    "    X_scaled = StandardScaler().fit_transform(matrix)\n",
    "    features = X_scaled.T\n",
    "    cov_matrix = np.cov(features)\n",
    "    eigenvalues, eigenvectors = np.linalg.eig(cov_matrix)\n",
    "    eigenvalues.sort()\n",
    "    eigenvalues = eigenvalues[::-1]\n",
    "\n",
    "    projected_1 = X_scaled.dot(eigenvectors.T[0])\n",
    "    projected_2 = X_scaled.dot(eigenvectors.T[1])\n",
    "    return projected_1, projected_2"
   ]
  },
  {
   "cell_type": "code",
   "execution_count": 111,
   "metadata": {},
   "outputs": [],
   "source": [
    "pca_autovec1 = pca_autovalores(v_aleatorio_1)\n",
    "pca_autovec2 = pca_autovalores(v_aleatorio_2)\n",
    "pca_autovec3 = pca_autovalores(v_aleatorio_3)\n",
    "pca_autovec4 = pca_autovalores(v_aleatorio_4)\n",
    "pca_autovec5 = pca_autovalores(v_aleatorio_5)\n",
    "pca_autovec6 = pca_autovalores(v_aleatorio_6)\n",
    "pca_autovec7 = pca_autovalores(v_aleatorio_7)\n",
    "pca_autovec8 = pca_autovalores(v_aleatorio_8)\n",
    "pca_autovec9 = pca_autovalores(v_aleatorio_9)\n",
    "pca_autovec10 = pca_autovalores(v_aleatorio_10)\n",
    "pca_autovec11 = pca_autovalores(v_aleatorio_11)\n",
    "pca_autovec12 = pca_autovalores(v_aleatorio_12)\n",
    "pca_autovec13 = pca_autovalores(v_aleatorio_13)\n",
    "pca_autovec14 = pca_autovalores(v_aleatorio_14)\n",
    "pca_autovec15 = pca_autovalores(v_aleatorio_15)\n",
    "pca_autovec16 = pca_autovalores(v_aleatorio_16)\n",
    "pca_autovec17 = pca_autovalores(v_aleatorio_17)\n",
    "pca_autovec18 = pca_autovalores(v_aleatorio_18)\n",
    "pca_autovec19 = pca_autovalores(v_aleatorio_19)\n",
    "pca_autovec20 = pca_autovalores(v_aleatorio_20)"
   ]
  },
  {
   "cell_type": "raw",
   "metadata": {},
   "source": [
    "plt.scatter(pca_autovec1[0],pca_autovec1[1])\n",
    "plt.scatter(pca_autovec2[0],pca_autovec2[1])\n",
    "plt.scatter(pca_autovec3[0],pca_autovec3[1])\n",
    "plt.scatter(pca_autovec4[0],pca_autovec4[1])\n",
    "plt.show()"
   ]
  },
  {
   "cell_type": "code",
   "execution_count": 112,
   "metadata": {},
   "outputs": [],
   "source": [
    "epoca_0 = []\n",
    "\n",
    "epoca_0.append((pca_autovec1[0][0],pca_autovec1[1][0]))\n",
    "epoca_0.append((pca_autovec2[0][0],pca_autovec2[1][0]))\n",
    "epoca_0.append((pca_autovec3[0][0],pca_autovec3[1][0]))\n",
    "epoca_0.append((pca_autovec4[0][0],pca_autovec4[1][0]))\n",
    "epoca_0.append((pca_autovec5[0][0],pca_autovec5[1][0]))\n",
    "epoca_0.append((pca_autovec6[0][0],pca_autovec6[1][0]))\n",
    "epoca_0.append((pca_autovec7[0][0],pca_autovec7[1][0]))\n",
    "epoca_0.append((pca_autovec8[0][0],pca_autovec8[1][0]))\n",
    "epoca_0.append((pca_autovec9[0][0],pca_autovec9[1][0]))\n",
    "epoca_0.append((pca_autovec10[0][0],pca_autovec10[1][0]))\n",
    "epoca_0.append((pca_autovec11[0][0],pca_autovec11[1][0]))\n",
    "epoca_0.append((pca_autovec12[0][0],pca_autovec12[1][0]))\n",
    "epoca_0.append((pca_autovec13[0][0],pca_autovec13[1][0]))\n",
    "epoca_0.append((pca_autovec14[0][0],pca_autovec14[1][0]))\n",
    "epoca_0.append((pca_autovec15[0][0],pca_autovec15[1][0]))\n",
    "epoca_0.append((pca_autovec16[0][0],pca_autovec16[1][0]))\n",
    "epoca_0.append((pca_autovec17[0][0],pca_autovec17[1][0]))\n",
    "epoca_0.append((pca_autovec18[0][0],pca_autovec18[1][0]))\n",
    "epoca_0.append((pca_autovec19[0][0],pca_autovec19[1][0]))\n",
    "epoca_0.append((pca_autovec20[0][0],pca_autovec20[1][0]))"
   ]
  },
  {
   "cell_type": "code",
   "execution_count": 113,
   "metadata": {},
   "outputs": [],
   "source": [
    "epoca_20 = []\n",
    "\n",
    "epoca_20.append((pca_autovec1[0][20],pca_autovec1[1][20]))\n",
    "epoca_20.append((pca_autovec2[0][20],pca_autovec2[1][20]))\n",
    "epoca_20.append((pca_autovec3[0][20],pca_autovec3[1][20]))\n",
    "epoca_20.append((pca_autovec4[0][20],pca_autovec4[1][20]))\n",
    "epoca_20.append((pca_autovec5[0][20],pca_autovec5[1][20]))\n",
    "epoca_20.append((pca_autovec6[0][20],pca_autovec6[1][20]))\n",
    "epoca_20.append((pca_autovec7[0][20],pca_autovec7[1][20]))\n",
    "epoca_20.append((pca_autovec8[0][20],pca_autovec8[1][20]))\n",
    "epoca_20.append((pca_autovec9[0][20],pca_autovec9[1][20]))\n",
    "epoca_20.append((pca_autovec10[0][20],pca_autovec10[1][20]))\n",
    "epoca_20.append((pca_autovec11[0][20],pca_autovec11[1][20]))\n",
    "epoca_20.append((pca_autovec12[0][20],pca_autovec12[1][20]))\n",
    "epoca_20.append((pca_autovec13[0][20],pca_autovec13[1][20]))\n",
    "epoca_20.append((pca_autovec14[0][20],pca_autovec14[1][20]))\n",
    "epoca_20.append((pca_autovec15[0][20],pca_autovec15[1][20]))\n",
    "epoca_20.append((pca_autovec16[0][20],pca_autovec16[1][20]))\n",
    "epoca_20.append((pca_autovec17[0][20],pca_autovec17[1][20]))\n",
    "epoca_20.append((pca_autovec18[0][20],pca_autovec18[1][20]))\n",
    "epoca_20.append((pca_autovec19[0][20],pca_autovec19[1][20]))\n",
    "epoca_20.append((pca_autovec20[0][20],pca_autovec20[1][20]))"
   ]
  },
  {
   "cell_type": "code",
   "execution_count": 114,
   "metadata": {},
   "outputs": [],
   "source": [
    "epoca_40 = []\n",
    "\n",
    "epoca_40.append((pca_autovec1[0][40],pca_autovec1[1][40]))\n",
    "epoca_40.append((pca_autovec2[0][40],pca_autovec2[1][40]))\n",
    "epoca_40.append((pca_autovec3[0][40],pca_autovec3[1][40]))\n",
    "epoca_40.append((pca_autovec4[0][40],pca_autovec4[1][40]))\n",
    "epoca_40.append((pca_autovec5[0][40],pca_autovec5[1][40]))\n",
    "epoca_40.append((pca_autovec6[0][40],pca_autovec6[1][40]))\n",
    "epoca_40.append((pca_autovec7[0][40],pca_autovec7[1][40]))\n",
    "epoca_40.append((pca_autovec8[0][40],pca_autovec8[1][40]))\n",
    "epoca_40.append((pca_autovec9[0][40],pca_autovec9[1][40]))\n",
    "epoca_40.append((pca_autovec10[0][40],pca_autovec10[1][40]))\n",
    "epoca_40.append((pca_autovec11[0][40],pca_autovec11[1][40]))\n",
    "epoca_40.append((pca_autovec12[0][40],pca_autovec12[1][40]))\n",
    "epoca_40.append((pca_autovec13[0][40],pca_autovec13[1][40]))\n",
    "epoca_40.append((pca_autovec14[0][40],pca_autovec14[1][40]))\n",
    "epoca_40.append((pca_autovec15[0][40],pca_autovec15[1][40]))\n",
    "epoca_40.append((pca_autovec16[0][40],pca_autovec16[1][40]))\n",
    "epoca_40.append((pca_autovec17[0][40],pca_autovec17[1][40]))\n",
    "epoca_40.append((pca_autovec18[0][40],pca_autovec18[1][40]))\n",
    "epoca_40.append((pca_autovec19[0][40],pca_autovec19[1][40]))\n",
    "epoca_40.append((pca_autovec20[0][40],pca_autovec20[1][40]))"
   ]
  },
  {
   "cell_type": "code",
   "execution_count": 115,
   "metadata": {},
   "outputs": [],
   "source": [
    "epoca_60 = []\n",
    "\n",
    "epoca_60.append((pca_autovec1[0][60],pca_autovec1[1][60]))\n",
    "epoca_60.append((pca_autovec2[0][60],pca_autovec2[1][60]))\n",
    "epoca_60.append((pca_autovec3[0][60],pca_autovec3[1][60]))\n",
    "epoca_60.append((pca_autovec4[0][60],pca_autovec4[1][60]))\n",
    "epoca_60.append((pca_autovec5[0][60],pca_autovec5[1][60]))\n",
    "epoca_60.append((pca_autovec6[0][60],pca_autovec6[1][60]))\n",
    "epoca_60.append((pca_autovec7[0][60],pca_autovec7[1][60]))\n",
    "epoca_60.append((pca_autovec8[0][60],pca_autovec8[1][60]))\n",
    "epoca_60.append((pca_autovec9[0][60],pca_autovec9[1][60]))\n",
    "epoca_60.append((pca_autovec10[0][60],pca_autovec10[1][60]))\n",
    "epoca_60.append((pca_autovec11[0][60],pca_autovec11[1][60]))\n",
    "epoca_60.append((pca_autovec12[0][60],pca_autovec12[1][60]))\n",
    "epoca_60.append((pca_autovec13[0][60],pca_autovec13[1][60]))\n",
    "epoca_60.append((pca_autovec14[0][60],pca_autovec14[1][60]))\n",
    "epoca_60.append((pca_autovec15[0][60],pca_autovec15[1][60]))\n",
    "epoca_60.append((pca_autovec16[0][60],pca_autovec16[1][60]))\n",
    "epoca_60.append((pca_autovec17[0][60],pca_autovec17[1][60]))\n",
    "epoca_60.append((pca_autovec18[0][60],pca_autovec18[1][60]))\n",
    "epoca_60.append((pca_autovec19[0][60],pca_autovec19[1][60]))\n",
    "epoca_60.append((pca_autovec20[0][60],pca_autovec20[1][60]))"
   ]
  },
  {
   "cell_type": "code",
   "execution_count": 116,
   "metadata": {},
   "outputs": [],
   "source": [
    "epoca_80 = []\n",
    "\n",
    "epoca_80.append((pca_autovec1[0][80],pca_autovec1[1][80]))\n",
    "epoca_80.append((pca_autovec2[0][80],pca_autovec2[1][80]))\n",
    "epoca_80.append((pca_autovec3[0][80],pca_autovec3[1][80]))\n",
    "epoca_80.append((pca_autovec4[0][80],pca_autovec4[1][80]))\n",
    "epoca_80.append((pca_autovec5[0][80],pca_autovec5[1][80]))\n",
    "epoca_80.append((pca_autovec6[0][80],pca_autovec6[1][80]))\n",
    "epoca_80.append((pca_autovec7[0][80],pca_autovec7[1][80]))\n",
    "epoca_80.append((pca_autovec8[0][80],pca_autovec8[1][80]))\n",
    "epoca_80.append((pca_autovec9[0][80],pca_autovec9[1][80]))\n",
    "epoca_80.append((pca_autovec10[0][80],pca_autovec10[1][80]))\n",
    "epoca_80.append((pca_autovec11[0][80],pca_autovec11[1][80]))\n",
    "epoca_80.append((pca_autovec12[0][80],pca_autovec12[1][80]))\n",
    "epoca_80.append((pca_autovec13[0][80],pca_autovec13[1][80]))\n",
    "epoca_80.append((pca_autovec14[0][80],pca_autovec14[1][80]))\n",
    "epoca_80.append((pca_autovec15[0][80],pca_autovec15[1][80]))\n",
    "epoca_80.append((pca_autovec16[0][80],pca_autovec16[1][80]))\n",
    "epoca_80.append((pca_autovec17[0][80],pca_autovec17[1][80]))\n",
    "epoca_80.append((pca_autovec18[0][80],pca_autovec18[1][80]))\n",
    "epoca_80.append((pca_autovec19[0][80],pca_autovec19[1][80]))\n",
    "epoca_80.append((pca_autovec20[0][80],pca_autovec20[1][80]))"
   ]
  },
  {
   "cell_type": "code",
   "execution_count": 117,
   "metadata": {},
   "outputs": [],
   "source": [
    "epoca_100 = []\n",
    "\n",
    "epoca_100.append((pca_autovec1[0][100],pca_autovec1[1][100]))\n",
    "epoca_100.append((pca_autovec2[0][100],pca_autovec2[1][100]))\n",
    "epoca_100.append((pca_autovec3[0][100],pca_autovec3[1][100]))\n",
    "epoca_100.append((pca_autovec4[0][100],pca_autovec4[1][100]))\n",
    "epoca_100.append((pca_autovec5[0][100],pca_autovec5[1][100]))\n",
    "epoca_100.append((pca_autovec6[0][100],pca_autovec6[1][100]))\n",
    "epoca_100.append((pca_autovec7[0][100],pca_autovec7[1][100]))\n",
    "epoca_100.append((pca_autovec8[0][100],pca_autovec8[1][100]))\n",
    "epoca_100.append((pca_autovec9[0][100],pca_autovec9[1][100]))\n",
    "epoca_100.append((pca_autovec10[0][100],pca_autovec10[1][100]))\n",
    "epoca_100.append((pca_autovec11[0][100],pca_autovec11[1][100]))\n",
    "epoca_100.append((pca_autovec12[0][100],pca_autovec12[1][100]))\n",
    "epoca_100.append((pca_autovec13[0][100],pca_autovec13[1][100]))\n",
    "epoca_100.append((pca_autovec14[0][100],pca_autovec14[1][100]))\n",
    "epoca_100.append((pca_autovec15[0][100],pca_autovec15[1][100]))\n",
    "epoca_100.append((pca_autovec16[0][100],pca_autovec16[1][100]))\n",
    "epoca_100.append((pca_autovec17[0][100],pca_autovec17[1][100]))\n",
    "epoca_100.append((pca_autovec18[0][100],pca_autovec18[1][100]))\n",
    "epoca_100.append((pca_autovec19[0][100],pca_autovec19[1][100]))\n",
    "epoca_100.append((pca_autovec20[0][100],pca_autovec20[1][100]))"
   ]
  },
  {
   "cell_type": "code",
   "execution_count": 118,
   "metadata": {},
   "outputs": [],
   "source": [
    "epoca_120 = []\n",
    "\n",
    "epoca_120.append((pca_autovec1[0][120],pca_autovec1[1][120]))\n",
    "epoca_120.append((pca_autovec2[0][120],pca_autovec2[1][120]))\n",
    "epoca_120.append((pca_autovec3[0][120],pca_autovec3[1][120]))\n",
    "epoca_120.append((pca_autovec4[0][120],pca_autovec4[1][120]))\n",
    "epoca_120.append((pca_autovec5[0][120],pca_autovec5[1][120]))\n",
    "epoca_120.append((pca_autovec6[0][120],pca_autovec6[1][120]))\n",
    "epoca_120.append((pca_autovec7[0][120],pca_autovec7[1][120]))\n",
    "epoca_120.append((pca_autovec8[0][120],pca_autovec8[1][120]))\n",
    "epoca_120.append((pca_autovec9[0][120],pca_autovec9[1][120]))\n",
    "epoca_120.append((pca_autovec10[0][120],pca_autovec10[1][120]))\n",
    "epoca_120.append((pca_autovec11[0][120],pca_autovec11[1][120]))\n",
    "epoca_120.append((pca_autovec12[0][120],pca_autovec12[1][120]))\n",
    "epoca_120.append((pca_autovec13[0][120],pca_autovec13[1][120]))\n",
    "epoca_120.append((pca_autovec14[0][120],pca_autovec14[1][120]))\n",
    "epoca_120.append((pca_autovec15[0][120],pca_autovec15[1][120]))\n",
    "epoca_120.append((pca_autovec16[0][120],pca_autovec16[1][120]))\n",
    "epoca_120.append((pca_autovec17[0][120],pca_autovec17[1][120]))\n",
    "epoca_120.append((pca_autovec18[0][120],pca_autovec18[1][120]))\n",
    "epoca_120.append((pca_autovec19[0][120],pca_autovec19[1][120]))\n",
    "epoca_120.append((pca_autovec20[0][120],pca_autovec20[1][120]))"
   ]
  },
  {
   "cell_type": "code",
   "execution_count": 119,
   "metadata": {},
   "outputs": [],
   "source": [
    "epoca_150 = []\n",
    "\n",
    "epoca_150.append((pca_autovec1[0][150],pca_autovec1[1][150]))\n",
    "epoca_150.append((pca_autovec2[0][150],pca_autovec2[1][150]))\n",
    "epoca_150.append((pca_autovec3[0][150],pca_autovec3[1][150]))\n",
    "epoca_150.append((pca_autovec4[0][150],pca_autovec4[1][150]))\n",
    "epoca_150.append((pca_autovec5[0][150],pca_autovec5[1][150]))\n",
    "epoca_150.append((pca_autovec6[0][150],pca_autovec6[1][150]))\n",
    "epoca_150.append((pca_autovec7[0][150],pca_autovec7[1][150]))\n",
    "epoca_150.append((pca_autovec8[0][150],pca_autovec8[1][150]))\n",
    "epoca_150.append((pca_autovec9[0][150],pca_autovec9[1][150]))\n",
    "epoca_150.append((pca_autovec10[0][150],pca_autovec10[1][150]))\n",
    "epoca_150.append((pca_autovec11[0][150],pca_autovec11[1][150]))\n",
    "epoca_150.append((pca_autovec12[0][150],pca_autovec12[1][150]))\n",
    "epoca_150.append((pca_autovec13[0][150],pca_autovec13[1][150]))\n",
    "epoca_150.append((pca_autovec14[0][150],pca_autovec14[1][150]))\n",
    "epoca_150.append((pca_autovec15[0][150],pca_autovec15[1][150]))\n",
    "epoca_150.append((pca_autovec16[0][150],pca_autovec16[1][150]))\n",
    "epoca_150.append((pca_autovec17[0][150],pca_autovec17[1][150]))\n",
    "epoca_150.append((pca_autovec18[0][150],pca_autovec18[1][150]))\n",
    "epoca_150.append((pca_autovec19[0][150],pca_autovec19[1][150]))\n",
    "epoca_150.append((pca_autovec20[0][150],pca_autovec20[1][150]))"
   ]
  },
  {
   "cell_type": "code",
   "execution_count": 120,
   "metadata": {},
   "outputs": [],
   "source": [
    "epoca_180 = []\n",
    "\n",
    "epoca_180.append((pca_autovec1[0][180],pca_autovec1[1][180]))\n",
    "epoca_180.append((pca_autovec2[0][180],pca_autovec2[1][180]))\n",
    "epoca_180.append((pca_autovec3[0][180],pca_autovec3[1][180]))\n",
    "epoca_180.append((pca_autovec4[0][180],pca_autovec4[1][180]))\n",
    "epoca_180.append((pca_autovec5[0][180],pca_autovec5[1][180]))\n",
    "epoca_180.append((pca_autovec6[0][180],pca_autovec6[1][180]))\n",
    "epoca_180.append((pca_autovec7[0][180],pca_autovec7[1][180]))\n",
    "epoca_180.append((pca_autovec8[0][180],pca_autovec8[1][180]))\n",
    "epoca_180.append((pca_autovec9[0][180],pca_autovec9[1][180]))\n",
    "epoca_180.append((pca_autovec10[0][180],pca_autovec10[1][180]))\n",
    "epoca_180.append((pca_autovec11[0][180],pca_autovec11[1][180]))\n",
    "epoca_180.append((pca_autovec12[0][180],pca_autovec12[1][180]))\n",
    "epoca_180.append((pca_autovec13[0][180],pca_autovec13[1][180]))\n",
    "epoca_180.append((pca_autovec14[0][180],pca_autovec14[1][180]))\n",
    "epoca_180.append((pca_autovec15[0][180],pca_autovec15[1][180]))\n",
    "epoca_180.append((pca_autovec16[0][180],pca_autovec16[1][180]))\n",
    "epoca_180.append((pca_autovec17[0][180],pca_autovec17[1][180]))\n",
    "epoca_180.append((pca_autovec18[0][180],pca_autovec18[1][180]))\n",
    "epoca_180.append((pca_autovec19[0][180],pca_autovec19[1][180]))\n",
    "epoca_180.append((pca_autovec20[0][180],pca_autovec20[1][180]))"
   ]
  },
  {
   "cell_type": "code",
   "execution_count": 121,
   "metadata": {},
   "outputs": [
    {
     "data": {
      "image/png": "[encoded data removed]",
      "text/plain": [
       "<Figure size 720x720 with 1 Axes>"
      ]
     },
     "metadata": {
      "needs_background": "light"
     },
     "output_type": "display_data"
    }
   ],
   "source": [
    "plt.figure(figsize = (10,10))\n",
    "plt.scatter(*zip(*epoca_0), label = \"Primeira Epoch\")\n",
    "plt.scatter(*zip(*epoca_20), label = \"Epoch 20\")\n",
    "plt.scatter(*zip(*epoca_40), label = \"Epoch 40\")\n",
    "plt.scatter(*zip(*epoca_60), label = \"Epoch 60\")\n",
    "plt.scatter(*zip(*epoca_80), label = \"Epoch 80\")\n",
    "plt.scatter(*zip(*epoca_100), label = \"Epoch 100\")\n",
    "plt.scatter(*zip(*epoca_120), label = \"Epoch 120\")\n",
    "plt.scatter(*zip(*epoca_150), label = \"Epoch 150\")\n",
    "plt.scatter(*zip(*epoca_180), label = \"Epoch 180\")\n",
    "plt.legend()\n",
    "plt.title(\"Problema do caixeiro viajante PCA\")\n",
    "plt.ylabel(\"X_2\")\n",
    "plt.xlabel(\"X_1\")\n",
    "plt.ylim(-8,8)\n",
    "plt.xlim(-8,+8)\n",
    "#plt.savefig(\"pca_caixeiro_tudo_menos4.png\")\n",
    "plt.show()"
   ]
  }
 ],
 "metadata": {
  "kernelspec": {
   "display_name": "Python 3",
   "language": "python",
   "name": "python3"
  },
  "language_info": {
   "codemirror_mode": {
    "name": "ipython",
    "version": 3
   },
   "file_extension": ".py",
   "mimetype": "text/x-python",
   "name": "python",
   "nbconvert_exporter": "python",
   "pygments_lexer": "ipython3",
   "version": "3.7.3"
  }
 },
 "nbformat": 4,
 "nbformat_minor": 4
}
