{
 "cells": [
  {
   "cell_type": "code",
   "execution_count": 1,
   "metadata": {},
   "outputs": [],
   "source": [
    "import pandas as pd\n",
    "import numpy as np\n",
    "import matplotlib.pyplot as plt\n",
    "import math"
   ]
  },
  {
   "cell_type": "markdown",
   "metadata": {},
   "source": [
    "$\\textbf{Linear:}$\n",
    "Usando os dados do Laboratorio de Física III, prática 1, experimento do resistor"
   ]
  },
  {
   "cell_type": "code",
   "execution_count": 2,
   "metadata": {},
   "outputs": [
    {
     "name": "stdout",
     "output_type": "stream",
     "text": [
      "(10, 2)\n"
     ]
    },
    {
     "data": {
      "text/html": [
       "<div>\n",
       "<style scoped>\n",
       "    .dataframe tbody tr th:only-of-type {\n",
       "        vertical-align: middle;\n",
       "    }\n",
       "\n",
       "    .dataframe tbody tr th {\n",
       "        vertical-align: top;\n",
       "    }\n",
       "\n",
       "    .dataframe thead th {\n",
       "        text-align: right;\n",
       "    }\n",
       "</style>\n",
       "<table border=\"1\" class=\"dataframe\">\n",
       "  <thead>\n",
       "    <tr style=\"text-align: right;\">\n",
       "      <th></th>\n",
       "      <th>V</th>\n",
       "      <th>I</th>\n",
       "    </tr>\n",
       "  </thead>\n",
       "  <tbody>\n",
       "    <tr>\n",
       "      <th>0</th>\n",
       "      <td>5.0</td>\n",
       "      <td>0.04</td>\n",
       "    </tr>\n",
       "    <tr>\n",
       "      <th>1</th>\n",
       "      <td>7.4</td>\n",
       "      <td>0.07</td>\n",
       "    </tr>\n",
       "    <tr>\n",
       "      <th>2</th>\n",
       "      <td>8.3</td>\n",
       "      <td>0.08</td>\n",
       "    </tr>\n",
       "    <tr>\n",
       "      <th>3</th>\n",
       "      <td>10.1</td>\n",
       "      <td>0.09</td>\n",
       "    </tr>\n",
       "    <tr>\n",
       "      <th>4</th>\n",
       "      <td>10.9</td>\n",
       "      <td>0.10</td>\n",
       "    </tr>\n",
       "  </tbody>\n",
       "</table>\n",
       "</div>"
      ],
      "text/plain": [
       "      V     I\n",
       "0   5.0  0.04\n",
       "1   7.4  0.07\n",
       "2   8.3  0.08\n",
       "3  10.1  0.09\n",
       "4  10.9  0.10"
      ]
     },
     "execution_count": 2,
     "metadata": {},
     "output_type": "execute_result"
    }
   ],
   "source": [
    "data = pd.read_csv(\"voltagem.csv\")\n",
    "print(data.shape)\n",
    "data.head()"
   ]
  },
  {
   "cell_type": "code",
   "execution_count": 3,
   "metadata": {},
   "outputs": [],
   "source": [
    "X = data['V'].values\n",
    "Y = data['I'].values"
   ]
  },
  {
   "cell_type": "code",
   "execution_count": 4,
   "metadata": {},
   "outputs": [
    {
     "name": "stdout",
     "output_type": "stream",
     "text": [
      "[[ 1.   5. ]\n",
      " [ 1.   7.4]\n",
      " [ 1.   8.3]\n",
      " [ 1.  10.1]\n",
      " [ 1.  10.9]\n",
      " [ 1.  11.4]\n",
      " [ 1.  12.4]\n",
      " [ 1.  14.9]\n",
      " [ 1.  17.5]\n",
      " [ 1.  20. ]]\n",
      "[0.04 0.07 0.08 0.09 0.1  0.11 0.12 0.14 0.17 0.2 ]\n"
     ]
    }
   ],
   "source": [
    "list_1 = [[1,X[i]] for i in range(len(X))]\n",
    "#A = []\n",
    "#A.append(list_1)\n",
    "#A.append(X)\n",
    "A_array = np.array(list_1)\n",
    "Y_array = np.array(Y)\n",
    "print(A_array)\n",
    "#print(list_1)\n",
    "print(Y_array)"
   ]
  },
  {
   "cell_type": "code",
   "execution_count": 5,
   "metadata": {},
   "outputs": [
    {
     "name": "stdout",
     "output_type": "stream",
     "text": [
      "[-0.00991051  0.01034016]\n"
     ]
    }
   ],
   "source": [
    "A_transpose = np.transpose(A_array)\n",
    "k = np.dot(A_transpose,A_array)\n",
    "k_inverse = np.linalg.inv(k)\n",
    "p = np.dot(k_inverse,A_transpose)\n",
    "p_vec = np.dot(p,Y_array)\n",
    "#p_vec = np.dot(Y_array, p)\n",
    "print(p_vec)"
   ]
  },
  {
   "cell_type": "code",
   "execution_count": 6,
   "metadata": {},
   "outputs": [],
   "source": [
    "x_fun = np.array(range(-10,100)) \n",
    "y_fun =  x_fun*p_vec[1] + p_vec[0]"
   ]
  },
  {
   "cell_type": "code",
   "execution_count": 7,
   "metadata": {},
   "outputs": [
    {
     "data": {
      "image/png": "[encoded data removed]",
      "text/plain": [
       "<Figure size 432x288 with 1 Axes>"
      ]
     },
     "metadata": {
      "needs_background": "light"
     },
     "output_type": "display_data"
    }
   ],
   "source": [
    "plt.scatter(X,Y_array, color = 'r')\n",
    "plt.plot(x_fun,y_fun, color = 'dimgrey')\n",
    "plt.xlabel(\"I\")\n",
    "plt.ylabel(\"V\")\n",
    "#plt.label(\"Corrente X Potencial\")\n",
    "plt.legend((\"data\",\"linear regression\"),loc = \"upper left\")\n",
    "plt.text(0.5, .20, 'c:'% p_vec[0], {'fontsize': 10})\n",
    "plt.text(0.5, .18, 'm:'% p_vec[1], {'fontsize': 10})\n",
    "plt.xlim(0,25)\n",
    "plt.ylim(0,0.3)\n",
    "plt.show()"
   ]
  },
  {
   "cell_type": "markdown",
   "metadata": {},
   "source": [
    "$\\textbf{Não Linear:}$ experimento do Led vermelho"
   ]
  },
  {
   "cell_type": "code",
   "execution_count": 8,
   "metadata": {},
   "outputs": [
    {
     "data": {
      "text/html": [
       "<div>\n",
       "<style scoped>\n",
       "    .dataframe tbody tr th:only-of-type {\n",
       "        vertical-align: middle;\n",
       "    }\n",
       "\n",
       "    .dataframe tbody tr th {\n",
       "        vertical-align: top;\n",
       "    }\n",
       "\n",
       "    .dataframe thead th {\n",
       "        text-align: right;\n",
       "    }\n",
       "</style>\n",
       "<table border=\"1\" class=\"dataframe\">\n",
       "  <thead>\n",
       "    <tr style=\"text-align: right;\">\n",
       "      <th></th>\n",
       "      <th>Corrente (mA)</th>\n",
       "      <th>Voltagem (V)</th>\n",
       "    </tr>\n",
       "  </thead>\n",
       "  <tbody>\n",
       "    <tr>\n",
       "      <th>0</th>\n",
       "      <td>0.000</td>\n",
       "      <td>1.52</td>\n",
       "    </tr>\n",
       "    <tr>\n",
       "      <th>1</th>\n",
       "      <td>0.003</td>\n",
       "      <td>1.58</td>\n",
       "    </tr>\n",
       "    <tr>\n",
       "      <th>2</th>\n",
       "      <td>0.008</td>\n",
       "      <td>1.63</td>\n",
       "    </tr>\n",
       "    <tr>\n",
       "      <th>3</th>\n",
       "      <td>0.016</td>\n",
       "      <td>1.66</td>\n",
       "    </tr>\n",
       "    <tr>\n",
       "      <th>4</th>\n",
       "      <td>0.029</td>\n",
       "      <td>1.69</td>\n",
       "    </tr>\n",
       "  </tbody>\n",
       "</table>\n",
       "</div>"
      ],
      "text/plain": [
       "   Corrente (mA)  Voltagem (V)\n",
       "0          0.000          1.52\n",
       "1          0.003          1.58\n",
       "2          0.008          1.63\n",
       "3          0.016          1.66\n",
       "4          0.029          1.69"
      ]
     },
     "execution_count": 8,
     "metadata": {},
     "output_type": "execute_result"
    }
   ],
   "source": [
    "data = pd.read_csv(\"led.csv\")\n",
    "data.head()"
   ]
  },
  {
   "cell_type": "code",
   "execution_count": 22,
   "metadata": {},
   "outputs": [],
   "source": [
    "Y = data['Corrente (mA)'].values\n",
    "X = data['Voltagem (V)'].values"
   ]
  },
  {
   "cell_type": "code",
   "execution_count": 33,
   "metadata": {},
   "outputs": [
    {
     "name": "stdout",
     "output_type": "stream",
     "text": [
      "[[1.   1.52]\n",
      " [1.   1.58]\n",
      " [1.   1.63]\n",
      " [1.   1.66]\n",
      " [1.   1.69]\n",
      " [1.   1.71]\n",
      " [1.   1.73]\n",
      " [1.   1.75]\n",
      " [1.   1.77]\n",
      " [1.   1.79]\n",
      " [1.   1.82]\n",
      " [1.   1.84]\n",
      " [1.   1.85]]\n",
      "[[0.   ]\n",
      " [0.003]\n",
      " [0.008]\n",
      " [0.016]\n",
      " [0.029]\n",
      " [0.044]\n",
      " [0.065]\n",
      " [0.1  ]\n",
      " [0.157]\n",
      " [0.29 ]\n",
      " [0.509]\n",
      " [0.837]\n",
      " [1.14 ]]\n"
     ]
    }
   ],
   "source": [
    "list_1 = [[1,X[i]] for i in range(len(X))]\n",
    "list_y = [[Y[i]] for i in range(len(X))]\n",
    "A_array = np.array(list_1)\n",
    "Y_array = np.array(list_y)\n",
    "print(A_array)\n",
    "print(Y_array)"
   ]
  },
  {
   "cell_type": "code",
   "execution_count": 38,
   "metadata": {},
   "outputs": [
    {
     "name": "stdout",
     "output_type": "stream",
     "text": [
      "[[-4.44362475]\n",
      " [ 2.72896695]]\n",
      "a = [0.01175326]\n",
      "m = [2.72896695]\n"
     ]
    }
   ],
   "source": [
    "A_transpose = np.transpose(A_array)\n",
    "k = np.dot(A_transpose,A_array)\n",
    "k_inverse = np.linalg.inv(k)\n",
    "p = np.dot(k_inverse,A_transpose)\n",
    "p_vec = np.dot(p,Y_array)\n",
    "#p_vec = np.dot(Y_array, p)\n",
    "#print(p)\n",
    "print(p_vec)\n",
    "a = np.exp(p_vec[0])\n",
    "m = p_vec[1]\n",
    "print(\"a =\", a)\n",
    "print(\"m =\", m)"
   ]
  },
  {
   "cell_type": "code",
   "execution_count": 46,
   "metadata": {},
   "outputs": [],
   "source": [
    "x_fun = np.array(range(0,30)) \n",
    "y_fun = []\n",
    "y_fun = (a*(np.exp(x_fun*m)))\n",
    "#y_fun =  np.log(a*(np.exp(x_fun*m)))"
   ]
  },
  {
   "cell_type": "code",
   "execution_count": 48,
   "metadata": {},
   "outputs": [
    {
     "data": {
      "image/png": "[encoded data removed]",
      "text/plain": [
       "<Figure size 432x288 with 1 Axes>"
      ]
     },
     "metadata": {
      "needs_background": "light"
     },
     "output_type": "display_data"
    }
   ],
   "source": [
    "plt.plot(x_fun,y_fun)\n",
    "plt.scatter(X,Y, color = 'dimgrey')\n",
    "plt.ylim(-0.1,1.3)\n",
    "plt.xlim(1.5,1.9)\n",
    "plt.xlabel(\"$V$\")\n",
    "plt.ylabel(\"$mA$\")\n",
    "plt.legend((\"data\",\"linear regression\"),loc = \"upper left\")\n",
    "plt.show()"
   ]
  },
  {
   "cell_type": "markdown",
   "metadata": {},
   "source": [
    "$\\textbf{Surface fitting: }$ "
   ]
  },
  {
   "cell_type": "code",
   "execution_count": null,
   "metadata": {},
   "outputs": [],
   "source": []
  }
 ],
 "metadata": {
  "kernelspec": {
   "display_name": "Python 3",
   "language": "python",
   "name": "python3"
  },
  "language_info": {
   "codemirror_mode": {
    "name": "ipython",
    "version": 3
   },
   "file_extension": ".py",
   "mimetype": "text/x-python",
   "name": "python",
   "nbconvert_exporter": "python",
   "pygments_lexer": "ipython3",
   "version": "3.7.3"
  }
 },
 "nbformat": 4,
 "nbformat_minor": 2
}
