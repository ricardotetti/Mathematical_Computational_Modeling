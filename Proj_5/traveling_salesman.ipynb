{
 "cells": [
  {
   "cell_type": "code",
   "execution_count": 1,
   "metadata": {},
   "outputs": [],
   "source": [
    "%matplotlib inline\n",
    "import numpy as np\n",
    "from random import sample, shuffle\n",
    "import matplotlib.pyplot as plt\n",
    "from sklearn.metrics.pairwise import pairwise_distances\n",
    "import math\n",
    "import random"
   ]
  },
  {
   "cell_type": "code",
   "execution_count": 44,
   "metadata": {},
   "outputs": [
    {
     "data": {
      "image/png": "[encoded data removed]",
      "text/plain": [
       "<Figure size 432x432 with 1 Axes>"
      ]
     },
     "metadata": {},
     "output_type": "display_data"
    }
   ],
   "source": [
    "n_cities = 15\n",
    "n_individuals = 300\n",
    "radius = 10\n",
    "\n",
    "cities = ([(math.cos(2*math.pi/n_cities*x)*radius,math.sin(2*math.pi/n_cities*x)*radius) for x in range(0,n_cities)])\n",
    "distances = pairwise_distances(cities, metric='euclidean')\n",
    "\n",
    "plotdata = list(cities)\n",
    "shuffle(plotdata)\n",
    "plt.figure(figsize=(6,6))\n",
    "plt.scatter([x[0] for x in plotdata], [x[1] for x in plotdata])\n",
    "plt.plot([x[0] for x in plotdata], [x[1] for x in plotdata], \"r-\")\n",
    "plt.tick_params(bottom=False,top=False,left=False,\n",
    "                right=False,labelbottom=False,labelleft=False)\n",
    "#plt.title(\"Travelling Salesman Problem\")\n",
    "plt.show()"
   ]
  },
  {
   "cell_type": "code",
   "execution_count": 45,
   "metadata": {},
   "outputs": [],
   "source": [
    "def getPopulation(n_cities, n_individuals):\n",
    "    population = []\n",
    "    n = 0\n",
    "    while n < n_individuals:\n",
    "        individuals = np.random.permutation(n_cities)\n",
    "        if not any([np.array_equal(individuals, x) for x in population]):\n",
    "            population.append(individuals)\n",
    "            n += 1\n",
    "    return population"
   ]
  },
  {
   "cell_type": "code",
   "execution_count": 4,
   "metadata": {},
   "outputs": [],
   "source": [
    "def Innovation(individual):\n",
    "    innovated = np.array(individual)\n",
    "    innovated = np.random.shuffle(innovated)\n",
    "    return innovated"
   ]
  },
  {
   "cell_type": "code",
   "execution_count": 5,
   "metadata": {},
   "outputs": [],
   "source": [
    "def Mutation(individual):\n",
    "    mutated = np.array(individual)\n",
    "    indi1,indi2 = sample(range(len(individual)),2)\n",
    "    mutated[indi1] = individual[indi2]\n",
    "    mutated[indi2] = individual[indi1]\n",
    "    return mutated"
   ]
  },
  {
   "cell_type": "code",
   "execution_count": 6,
   "metadata": {},
   "outputs": [],
   "source": [
    "def Inversion(individual):\n",
    "    p = np.random.randint(n_cities)\n",
    "    k = np.random.randint(p,n_cities)\n",
    "    inverted = np.array(individual)\n",
    "    if p == k:\n",
    "        return None\n",
    "    else:\n",
    "        inverted[p:k] = reversed(inverted[p:k])\n",
    "        return inverted"
   ]
  },
  {
   "cell_type": "code",
   "execution_count": 7,
   "metadata": {},
   "outputs": [],
   "source": [
    "def Cloning(individual1, individual2):\n",
    "    n = len(individual1)\n",
    "    individual1, individual2 = sample(range(n),2)\n",
    "    result1 = np.array(individual1)\n",
    "    result2 = np.array(individual2)\n",
    "    result2 = result2.tolist()\n",
    "    result1 = result1.tolist()\n",
    "    result2 = []\n",
    "    for i in range((result1)):\n",
    "        result2.append(result1)\n",
    "    #result2 = result1.copy()\n",
    "    return result1, result2"
   ]
  },
  {
   "cell_type": "code",
   "execution_count": 8,
   "metadata": {},
   "outputs": [],
   "source": [
    "def Transposition(individual):\n",
    "    transpo = np.array(individual)\n",
    "    p = np.random.randint(n_cities)\n",
    "    k = np.random.randint(p,n_cities)\n",
    "    transpo[p:k] = shuffle(transpo[p:k])\n",
    "    return transpo"
   ]
  },
  {
   "cell_type": "code",
   "execution_count": 9,
   "metadata": {},
   "outputs": [],
   "source": [
    "def Crossing_over(individual1, individual2):\n",
    "    n = len(individual1)\n",
    "    cross_point1, cross_point2 = sample(range(n),2)\n",
    "    if cross_point1 > cross_point2:\n",
    "        tmp = cross_point2\n",
    "        cross_point1 = cross_point2\n",
    "        cross_point2 = tmp\n",
    "    result1 = np.array(individual1)\n",
    "    result2 = np.array(individual2)\n",
    "    j1 = cross_point1\n",
    "    j2 = cross_point2\n",
    "    for i in range(cross_point1,cross_point2):\n",
    "        while individual2[j1] not in individual1[cross_point1:cross_point2]:\n",
    "            j1 = (j1+1)%n\n",
    "        result1[i] = individual2[j1]\n",
    "        j1 = (j1+1)%n\n",
    "        while individual1[j2] not in individual2[cross_point1:cross_point2]:\n",
    "            j2 = (j2+1)%n\n",
    "        result2[i] = individual1[j2]\n",
    "        j2 = (j2+1)%n\n",
    "    return result1, result2"
   ]
  },
  {
   "cell_type": "code",
   "execution_count": 10,
   "metadata": {},
   "outputs": [],
   "source": [
    "def createOffspring(individual, p_innovation = 0, p_mutation=0.2, p_inversion = 0, \n",
    "                   p_cloning = 0, p_transposition = 0, p_crossing_over = 0.2):\n",
    "    offspring = []\n",
    "\n",
    "    for x in individual:\n",
    "        if np.random.rand() <= p_mutation:\n",
    "            c = Mutation(x)\n",
    "            if (not any([np.array_equal(c, x) for x in individual]) and \n",
    "                not any([np.array_equal(c, x) for x in offspring])):\n",
    "                offspring.append(c)\n",
    "        if np.random.rand() <= p_innovation:\n",
    "            k = Innovation(x)\n",
    "            if (not any([np.array_equal(k, x) for x in individual]) and \n",
    "                not any([np.array_equal(k, x) for x in offspring])):\n",
    "                offspring.append(k)\n",
    "        if np.random.rand() <= p_inversion:\n",
    "            t = Inversion(x)\n",
    "            if (not any([np.array_equal(t, x) for x in individual]) and \n",
    "                not any([np.array_equal(t, x) for x in offspring])):\n",
    "                offspring.append(t)\n",
    "        if np.random.rand() <= p_transposition:\n",
    "            w = Transposition(x)\n",
    "            if (not any([np.array_equal(w, x) for x in individual]) and \n",
    "                not any([np.array_equal(w, x) for x in offspring])):\n",
    "                offspring.append(w)\n",
    "    if np.random.rand() <= p_crossing_over:\n",
    "        for i in range(len(individual)):\n",
    "            p1, p2 = sample(individual, 2)\n",
    "            c1, c2 = Crossing_over(p1, p2)\n",
    "            if (not any([np.array_equal(c1, x) for x in individual]) and \n",
    "                not any([np.array_equal(c1, x) for x in offspring])):\n",
    "                offspring.append(c1)\n",
    "            if (not any([np.array_equal(c2, x) for x in individual]) and \n",
    "                not any([np.array_equal(c2, x) for x in offspring])):\n",
    "                offspring.append(c2)\n",
    "    \n",
    "    if np.random.rand() <= p_cloning:\n",
    "        for i in range(len(individual)):\n",
    "            p1, p2 = sample(individual, 2)\n",
    "            c1, c2 = Cloning(p1, p2)\n",
    "            if (not any([np.array_equal(c1, x) for x in individual]) and \n",
    "                not any([np.array_equal(c1, x) for x in offspring])):\n",
    "                offspring.append(c1)\n",
    "            if (not any([np.array_equal(c2, x) for x in individual]) and \n",
    "                not any([np.array_equal(c2, x) for x in offspring])):\n",
    "                offspring.append(c2)\n",
    "\n",
    "    return offspring"
   ]
  },
  {
   "cell_type": "code",
   "execution_count": 11,
   "metadata": {},
   "outputs": [],
   "source": [
    "def fitness(individual):   \n",
    "    fitness = 0\n",
    "    global distances\n",
    "    \n",
    "    for i in range(len(individual) - 1):\n",
    "        fitness += distances[individual[i]][individual[i+1]]\n",
    "    return fitness"
   ]
  },
  {
   "cell_type": "code",
   "execution_count": 12,
   "metadata": {},
   "outputs": [],
   "source": [
    "def probabilisticSelection(population, selection_factor, p=[1, 0]):\n",
    "    total_fitness = sum([fitness(x) for x in population])\n",
    "    \n",
    "    population = [[x, (p[0]*(total_fitness - fitness(x))+p[1])/(p[0]*(total_fitness*(len(population)-1))+p[1])] for x in population]\n",
    "    population.sort(key=lambda x: x[1])\n",
    "    population = [[x[0], y] for x, y in zip(population, np.cumsum([x[1] for x in population]))]\n",
    "\n",
    "    new_population = []\n",
    "\n",
    "    r = np.random.rand()\n",
    "    for i in range(selection_factor):\n",
    "        selected_individual = [x for x in population if x[1] >= (r + i/selection_factor)%1][0]\n",
    "        new_population.append(selected_individual[0])\n",
    "\n",
    "    return new_population"
   ]
  },
  {
   "cell_type": "code",
   "execution_count": 13,
   "metadata": {},
   "outputs": [],
   "source": [
    "def elitismReplacement(individual, offspring, n_elite):\n",
    "    individual.sort(key=lambda x: fitness(x))\n",
    "    new_population = individual[:n_elite]\n",
    "    offspring.sort(key=lambda x: fitness(x))\n",
    "    new_population.extend(offspring[:(len(individual) - n_elite)])\n",
    "    return new_population"
   ]
  },
  {
   "cell_type": "code",
   "execution_count": 46,
   "metadata": {},
   "outputs": [],
   "source": [
    "population = getPopulation(n_cities, n_individuals)"
   ]
  },
  {
   "cell_type": "code",
   "execution_count": 47,
   "metadata": {},
   "outputs": [],
   "source": [
    "def update(i):\n",
    "    global population\n",
    "    parents = probabilisticSelection(population, 150)\n",
    "    offspring = createOffspring(parents)\n",
    "    population = elitismReplacement(population, offspring, 100)\n",
    "    \n",
    "    best = min(population, key=lambda x: fitness(x))\n",
    "    plotdata = [cities[x] for x in best]\n",
    "    \n",
    "    return plotdata\n",
    "    \n",
    "population = getPopulation(n_cities, n_individuals)\n",
    "\n",
    "\n",
    "#k1 = []\n",
    "#k2 = []\n",
    "#k3 = []\n",
    "#k4 = []\n",
    "k5 = []\n",
    "for i in range(200):\n",
    "    k5.append(update(i))"
   ]
  },
  {
   "cell_type": "code",
   "execution_count": 48,
   "metadata": {},
   "outputs": [
    {
     "name": "stdout",
     "output_type": "stream",
     "text": [
      "[(-9.781476007338057, -2.079116908177591), (-8.090169943749476, -5.87785252292473), (-5.000000000000004, -8.660254037844384), (-1.0452846326765424, -9.945218953682733), (3.0901699437494723, -9.510565162951536), (6.691306063588578, -7.4314482547739455), (9.135454576426005, -4.0673664307580095), (10.0, 0.0), (9.135454576426008, 4.0673664307580015), (6.691306063588582, 7.431448254773941), (3.0901699437494745, 9.510565162951535), (-1.0452846326765333, 9.945218953682733), (-4.999999999999998, 8.660254037844387), (-8.090169943749473, 5.877852522924733), (-9.781476007338055, 2.079116908177597)]\n"
     ]
    },
    {
     "data": {
      "image/png": "[encoded data removed]",
      "text/plain": [
       "<Figure size 432x432 with 1 Axes>"
      ]
     },
     "metadata": {},
     "output_type": "display_data"
    }
   ],
   "source": [
    "fig, ax = plt.subplots()\n",
    "fig.set_size_inches(6,6)\n",
    "line, = ax.plot([], [], 'r-')\n",
    "plt.scatter([x[0] for x in cities], [x[1] for x in cities], c='k')\n",
    "\n",
    "\n",
    "k_best = k1[len(k1)-1]\n",
    "\n",
    "print(k_best)\n",
    "plt.plot(*zip(*k_best),color = 'dimgrey')\n",
    "plt.tick_params(bottom=False,top=False,left=False,\n",
    "                right=False,labelbottom=False,labelleft=False)\n",
    "plt.savefig(\"traveling_salesman_circular.png\")\n",
    "plt.show()"
   ]
  },
  {
   "cell_type": "code",
   "execution_count": 20,
   "metadata": {},
   "outputs": [],
   "source": [
    "def distance_function(lists):\n",
    "    p = []\n",
    "    x,y = zip(*lists)\n",
    "    for i in range(len(x)):\n",
    "        l =  math.sqrt((x[i]-x[i-1])**2+(y[i]-y[i-1])**2)\n",
    "        p.append(l)\n",
    "    return sum(p)\n",
    "\n",
    "di1 = []\n",
    "di2 = []\n",
    "di3 = []\n",
    "di4 = []\n",
    "di5 = []\n",
    "\n",
    "for i in range(len(k2)):\n",
    "    di1.append(distance_function(k1[i]))\n",
    "    di2.append(distance_function(k2[i]))\n",
    "    di3.append(distance_function(k3[i]))\n",
    "    di4.append(distance_function(k4[i]))\n",
    "    di5.append(distance_function(k5[i]))\n",
    "    \n",
    "#tempo = np.arange(len(di))\n",
    "#plt.plot(tempo,di)\n",
    "#plt.show()"
   ]
  },
  {
   "cell_type": "code",
   "execution_count": 22,
   "metadata": {},
   "outputs": [
    {
     "data": {
      "image/png": "[encoded data removed]",
      "text/plain": [
       "<Figure size 432x288 with 1 Axes>"
      ]
     },
     "metadata": {
      "needs_background": "light"
     },
     "output_type": "display_data"
    }
   ],
   "source": [
    "di_mean = [np.mean(i) for i in zip(di1,di2,di3,di4,di5)]\n",
    "di_std = [np.std(i) for i in zip(di1,di2,di3,di4,di5)]\n",
    "\n",
    "di_mean = di_mean[:len(di_mean)]\n",
    "di_std = di_std[:len(di_mean)]\n",
    "t = [i for i in range(len(di_mean))]\n",
    "plt.errorbar(t, di_mean, di_std,color = 'dimgrey')\n",
    "plt.xlabel('Epoch')\n",
    "plt.title(\"Traveling Salesman Circular\")\n",
    "plt.ylabel('Distance')\n",
    "plt.ylim(0,150)\n",
    "plt.savefig(\"media_std_traveling_salesman_circular.png\")\n",
    "plt.show()"
   ]
  },
  {
   "cell_type": "raw",
   "metadata": {},
   "source": [
    "di = []\n",
    "for i in range(len(k2)):\n",
    "    di.append(distance_function(k2[i]))\n",
    "    \n",
    "tempo = np.arange(len(di))\n",
    "plt.plot(tempo,di)\n",
    "plt.show()"
   ]
  },
  {
   "cell_type": "markdown",
   "metadata": {},
   "source": [
    "## Sem ser circular"
   ]
  },
  {
   "cell_type": "code",
   "execution_count": 23,
   "metadata": {},
   "outputs": [],
   "source": [
    "n_cities = 15\n",
    "n_individuals = 300\n",
    "\n",
    "cities = ([(np.random.randn(),np.random.randn()) for x in range(0,n_cities)])\n",
    "distances = pairwise_distances(cities, metric='euclidean')"
   ]
  },
  {
   "cell_type": "code",
   "execution_count": 31,
   "metadata": {},
   "outputs": [
    {
     "data": {
      "image/png": "[encoded data removed]",
      "text/plain": [
       "<Figure size 576x432 with 1 Axes>"
      ]
     },
     "metadata": {},
     "output_type": "display_data"
    }
   ],
   "source": [
    "def update(i):\n",
    "    global population\n",
    "    parents = probabilisticSelection(population, 150)\n",
    "    offspring = createOffspring(parents)\n",
    "    population = elitismReplacement(population, offspring, 100)\n",
    "    \n",
    "    best = min(population, key=lambda x: fitness(x))\n",
    "    plotdata = [cities[x] for x in best]\n",
    "    \n",
    "    return plotdata\n",
    "    \n",
    "population = getPopulation(n_cities, n_individuals)\n",
    "\n",
    "#k_random1 = []\n",
    "#k_random2 = []\n",
    "#k_random3 = []\n",
    "#k_random4 = []\n",
    "k_random5 = []\n",
    "\n",
    "for i in range(200):\n",
    "    #k_random1.append(update(i))\n",
    "    #k_random2.append(update(i))\n",
    "    #k_random3.append(update(i))\n",
    "    #k_random4.append(update(i))\n",
    "    k_random5.append(update(i))\n"
   ]
  },
  {
   "cell_type": "code",
   "execution_count": 33,
   "metadata": {},
   "outputs": [
    {
     "data": {
      "image/png": "[encoded data removed]",
      "text/plain": [
       "<Figure size 576x432 with 1 Axes>"
      ]
     },
     "metadata": {},
     "output_type": "display_data"
    }
   ],
   "source": [
    "fig, ax = plt.subplots()\n",
    "fig.set_size_inches(8,6)\n",
    "line, = ax.plot([], [], 'r-')\n",
    "ax.scatter([x[0] for x in cities], [x[1] for x in cities], c='k')\n",
    "\n",
    "k_best = k_random3[len(k_random3)-1]\n",
    "\n",
    "#print(k_best)\n",
    "plt.plot(*zip(*k_best),color = 'dimgrey')\n",
    "plt.tick_params(bottom=False,top=False,left=False,\n",
    "                right=False,labelbottom=False,labelleft=False)\n",
    "plt.savefig(\"traveling_salesman_random.png\")\n",
    "plt.show()"
   ]
  },
  {
   "cell_type": "raw",
   "metadata": {},
   "source": [
    "plt.scatter([x[0] for x in cities], [x[1] for x in cities], c='k')\n",
    "plt.plot(*zip(*k_random5[20]))\n",
    "plt.show()"
   ]
  },
  {
   "cell_type": "code",
   "execution_count": 35,
   "metadata": {},
   "outputs": [],
   "source": [
    "di1_random = []\n",
    "di2_random = []\n",
    "di3_random = []\n",
    "di4_random = []\n",
    "di5_random = []\n",
    "\n",
    "for i in range(len(k_random1)):\n",
    "    di1_random.append(distance_function(k_random1[i]))\n",
    "    di2_random.append(distance_function(k_random2[i]))\n",
    "    di3_random.append(distance_function(k_random3[i]))\n",
    "    di4_random.append(distance_function(k_random4[i]))\n",
    "    di5_random.append(distance_function(k_random5[i]))"
   ]
  },
  {
   "cell_type": "code",
   "execution_count": 42,
   "metadata": {},
   "outputs": [
    {
     "data": {
      "image/png": "[encoded data removed]",
      "text/plain": [
       "<Figure size 432x288 with 1 Axes>"
      ]
     },
     "metadata": {
      "needs_background": "light"
     },
     "output_type": "display_data"
    }
   ],
   "source": [
    "di_mean_random = [np.mean(i) for i in zip(di1_random,di2_random,di3_random,di4_random,di5_random)]\n",
    "di_std_random = [np.std(i) for i in zip(di1_random,di2_random,di3_random,di4_random,di5_random)]\n",
    "\n",
    "di_mean_random = di_mean_random[:len(di_mean_random)]\n",
    "di_std_random = di_std_random[:len(di_mean_random)]\n",
    "t = [i for i in range(len(di_mean_random))]\n",
    "plt.errorbar(t, di_mean_random, di_std_random,color = 'dimgrey')\n",
    "plt.xlabel('Epoch')\n",
    "plt.title(\"Traveling Salesman\")\n",
    "plt.ylabel('Distance')\n",
    "plt.savefig(\"random_ylim_menor.png\")\n",
    "#plt.ylim(0,18)\n",
    "plt.show()"
   ]
  }
 ],
 "metadata": {
  "kernelspec": {
   "display_name": "Python 3",
   "language": "python",
   "name": "python3"
  },
  "language_info": {
   "codemirror_mode": {
    "name": "ipython",
    "version": 3
   },
   "file_extension": ".py",
   "mimetype": "text/x-python",
   "name": "python",
   "nbconvert_exporter": "python",
   "pygments_lexer": "ipython3",
   "version": "3.7.3"
  }
 },
 "nbformat": 4,
 "nbformat_minor": 4
}
