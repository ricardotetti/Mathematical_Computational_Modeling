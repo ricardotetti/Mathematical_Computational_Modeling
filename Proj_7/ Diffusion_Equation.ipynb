{
 "cells": [
  {
   "cell_type": "code",
   "execution_count": 1,
   "metadata": {},
   "outputs": [],
   "source": [
    "%matplotlib inline\n",
    "import numpy as np \n",
    "import matplotlib.pyplot as plt\n",
    "from scipy.signal import convolve2d"
   ]
  },
  {
   "cell_type": "raw",
   "metadata": {},
   "source": [
    "def set_boundary(grid, size, width, thick, pot, pot2):\n",
    "\n",
    "    tcr = int(size/2) \n",
    "    tcc = int(size/2)       \n",
    "    \n",
    "    grid[tcr-thick:tcr, tcc-int(width/2):tcc+int(width/2)] = pot\n",
    "\n",
    "    bcr = int(size/2)  \n",
    "    bcc = int(size/2)        \n",
    "\n",
    "    grid[bcr:bcr+thick, bcc-int(width/2):bcc+int(width/2)] = pot2\n",
    "\n",
    "    grid[0,:] = 0.0    \n",
    "    grid[-1,:] = 0.0\n",
    "    grid[:,0] = 0.0\n",
    "    grid[:,-1] = 0.0\n",
    "    return grid"
   ]
  },
  {
   "cell_type": "raw",
   "metadata": {},
   "source": [
    "size = 80      # Length of side of grid.\n",
    "thick = 15      # Thickness (vertical) of capacitor plates.\n",
    "width = 30      # Width (horizontal) of capacitor plates.\n",
    "pot = 20        # Potential across capacitor.\n",
    "pot2 = 20\n",
    "grid = np.zeros((size,size))"
   ]
  },
  {
   "cell_type": "code",
   "execution_count": 4,
   "metadata": {},
   "outputs": [],
   "source": [
    "def Euler_method(matrix,inter, D):\n",
    "    dt = 0.1\n",
    "    T = 0\n",
    "    for t in range(inter):\n",
    "        for x in range(1,len(matrix)-1):\n",
    "            for y in range(1,len(matrix)-1):\n",
    "                matrix[x][y] = (matrix[x][y] + D*(T+dt)*((matrix[x-1][y]+matrix[x+1][y]+matrix[x][y-1]+matrix[x][y+1]-4*matrix[x][y])))\n",
    "    return matrix"
   ]
  },
  {
   "cell_type": "code",
   "execution_count": 5,
   "metadata": {},
   "outputs": [],
   "source": [
    "#gota_inicial = set_boundary(grid, size, width, thick, pot,pot2)\n",
    "\n",
    "gota_inicial = np.zeros((80,80))\n",
    "gota_inicial[30:50,30:50] = 20\n",
    "\n",
    "inter = 1500\n",
    "D = 0.5\n",
    "gota_final = Euler_method(gota_inicial, inter, D)"
   ]
  },
  {
   "cell_type": "code",
   "execution_count": 6,
   "metadata": {},
   "outputs": [
    {
     "data": {
      "image/png": "[encoded data removed]",
      "text/plain": [
       "<Figure size 432x288 with 2 Axes>"
      ]
     },
     "metadata": {
      "needs_background": "light"
     },
     "output_type": "display_data"
    }
   ],
   "source": [
    "f1, ax1 = plt.subplots()\n",
    "\n",
    "\n",
    "picture = ax1.imshow(gota_final,vmin=0,vmax =20 ,interpolation='none', cmap='Blues')\n",
    "ax1.axis('off')\n",
    "ax1.set_title('Diffusion System')\n",
    "f1.colorbar(picture, label = \"Density\")\n",
    "#plt.savefig('diffusion_1500inter.png')\n",
    "plt.show()"
   ]
  },
  {
   "cell_type": "code",
   "execution_count": 7,
   "metadata": {},
   "outputs": [],
   "source": [
    "def Euler_method_density(matrix,inter, D, t):\n",
    "    dt = 0.1\n",
    "    T = 0\n",
    "    for x in range(1,len(matrix)-1):\n",
    "        for y in range(1,len(matrix)-1):\n",
    "            matrix[x][y] = (matrix[x][y] + D*(T+dt)*((matrix[x-1][y]+matrix[x+1][y]+matrix[x][y-1]+matrix[x][y+1]-4*matrix[x][y])))\n",
    "    return np.std(matrix)"
   ]
  },
  {
   "cell_type": "code",
   "execution_count": 96,
   "metadata": {},
   "outputs": [],
   "source": [
    "gota_inicial2 = set_boundary(grid, size, width, thick, pot,pot2)\n",
    "standard = []\n",
    "inter = 3000\n",
    "for t in range(inter):\n",
    "    k = Euler_method_density(gota_inicial2, inter, 1.6, t)\n",
    "    standard.append(k)"
   ]
  },
  {
   "cell_type": "code",
   "execution_count": 97,
   "metadata": {},
   "outputs": [
    {
     "data": {
      "image/png": "[encoded data removed]",
      "text/plain": [
       "<Figure size 432x288 with 1 Axes>"
      ]
     },
     "metadata": {
      "needs_background": "light"
     },
     "output_type": "display_data"
    }
   ],
   "source": [
    "t = [i for i in range(len(standard))]\n",
    "plt.plot(t,standard,color = 'dimgrey')\n",
    "plt.title(\"Standard deviation\")\n",
    "plt.xlabel(\"Interations\")\n",
    "plt.ylabel(\"Standard deviation\")\n",
    "plt.savefig(\"standard_deviation.png\")\n",
    "plt.show()"
   ]
  },
  {
   "cell_type": "markdown",
   "metadata": {},
   "source": [
    "### Gray-Scott Reaction Simulation"
   ]
  },
  {
   "cell_type": "code",
   "execution_count": 23,
   "metadata": {},
   "outputs": [
    {
     "data": {
      "image/png": "[encoded data removed]",
      "text/plain": [
       "<Figure size 432x288 with 1 Axes>"
      ]
     },
     "metadata": {
      "needs_background": "light"
     },
     "output_type": "display_data"
    }
   ],
   "source": [
    "def du_dt(f):\n",
    "    df = Du*convolve2d(f, maske, mode=\"same\") - v*v*u + F*(1.0 - u)\n",
    "    return df\n",
    "\n",
    "def dv_dt(f):\n",
    "    df = Dv*convolve2d(f, maske, mode=\"same\") + v*v*u - (F+k)*v\n",
    "    return df\n",
    "\n",
    "maske = np.array([[0, 1, 0], \n",
    "                  [1, -4, 1], \n",
    "                  [0, 1, 0]])\n",
    "\n",
    "\n",
    "#parameters setting\n",
    "F = 0.035                #feed rate\n",
    "k = 0.045               #kill rate\n",
    "\n",
    "Du, Dv = 0.16, 0.08     #diffusion coefficients\n",
    "L = 252                 #fig dimention\n",
    "\n",
    "u = np.zeros((L, L))\n",
    "u2 = np.zeros((L, L))\n",
    "v = np.zeros((L, L))\n",
    "v2 = np.zeros((L, L))\n",
    "\n",
    "#initial condition\n",
    "u[L//2-6:L//2+6, L//2-6:L//2+6] = 1.0\n",
    "v[L//2-3:L//2+3, L//2-3:L//2+3] = 1.0\n",
    "\n",
    "iterations = 10000      #number of iterarion \n",
    "dt = 1.0                #step\n",
    "for i in range(iterations):\n",
    "    if i % 2 == 0:\n",
    "        u2[:] = u + du_dt(u)* dt\n",
    "        v2[:] = v + dv_dt(v)* dt\n",
    "    else:\n",
    "        u[:] = u2 + du_dt(u2)* dt\n",
    "        v[:] = v2 + dv_dt(v2)* dt\n",
    "\n",
    "\n",
    "#show the image\n",
    "fig, ax = plt.subplots()\n",
    "ax.imshow(v, cmap= 'gist_heat')\n",
    "ax.set_axis_off()\n",
    "plt.savefig('f_0035_k_0045.png')"
   ]
  },
  {
   "cell_type": "code",
   "execution_count": 21,
   "metadata": {},
   "outputs": [
    {
     "data": {
      "image/png": "[encoded data removed]",
      "text/plain": [
       "<Figure size 432x288 with 1 Axes>"
      ]
     },
     "metadata": {
      "needs_background": "light"
     },
     "output_type": "display_data"
    }
   ],
   "source": [
    "feed_rate = [0.02,0.02,0.01,0.01,0.015,0.015,0.023]\n",
    "kill_rate = [0.052,0.062,0.05,0.03,0.035,0.052,0.047]\n",
    "plt.scatter(kill_rate, feed_rate, color = 'dimgrey')\n",
    "plt.xlabel(\"Kill rate (K)\")\n",
    "plt.ylabel(\"Feed rate (F)\")\n",
    "plt.title(\"Patterns Gray-Scott\")\n",
    "plt.savefig('gray_scott.png')\n",
    "plt.show()"
   ]
  }
 ],
 "metadata": {
  "kernelspec": {
   "display_name": "Python 3",
   "language": "python",
   "name": "python3"
  },
  "language_info": {
   "codemirror_mode": {
    "name": "ipython",
    "version": 3
   },
   "file_extension": ".py",
   "mimetype": "text/x-python",
   "name": "python",
   "nbconvert_exporter": "python",
   "pygments_lexer": "ipython3",
   "version": "3.7.3"
  }
 },
 "nbformat": 4,
 "nbformat_minor": 4
}
